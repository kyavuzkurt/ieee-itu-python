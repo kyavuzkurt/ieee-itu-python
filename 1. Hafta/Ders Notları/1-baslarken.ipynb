{
 "cells": [
  {
   "attachments": {},
   "cell_type": "markdown",
   "metadata": {},
   "source": [
    "# <span style=\"color:#0152a1\"> İTÜ IEEE Python Eğitimi</span> \n",
    "## 1. Hafta\n"
   ]
  },
  {
   "attachments": {},
   "cell_type": "markdown",
   "metadata": {},
   "source": []
  },
  {
   "attachments": {},
   "cell_type": "markdown",
   "metadata": {},
   "source": [
    "##### Gerekli Ortamların Kurulması\n",
    "__Python'un Kurulumu__\n",
    "\n",
    "Bilgisayarımızda Python kodlarını ve dosyalarını çalıştırabilmek için Python'ı kurmamız gerekiyor. \n",
    "<br>[Python.org](https://www.python.org/) sitesinden, _Download Python 3.12.0_ butonuna tıklayarak indirebilirsiniz. Sonrasında kurulum işlemlerini gerçekleştirin.\n",
    "\n",
    "Python'un sorunsuz bir şekilde kurulduğunu kontrol etmek için:\n",
    "        <br>- Windows Arama Çubuğuna Terminal yazıyoruz.\n",
    "        <br>- Çıkan Pencerede `python` yazıp, enter'a basıyoruz.\n",
    "\n",
    "Eğer karşınıza python sürümünüz çıkarsa, kurulum gerçekleşmiştir.\n",
    "\n",
    "\n",
    "__VSCode Kurulumu__\n",
    "\n",
    "Kodlama yaparken programlarımızın yazabilmek ve çalıştırabilmek amacıyla IDE'ler (Integrated Development Environment) kullanırız. Programımızı çalıştırdığımızda kullandığımız IDE kodu bilgisayarın anlayabileceği seviye getirerek çalıştırılmasını sağlar. \n",
    "Bunun dışında IDE'lerin başka yararları da vardır, örnek olarak:\n",
    "        \n",
    "        - Yazılım diline uygun olarak yapılan renklendirme ile kodu anlaşılabilir yapar.\n",
    "        - Kod düzenleme otomasyonu sayesine otomatik tamamlamalarda ve önerilerde bulunur.\n",
    "        - Hata ayıklamasını kolaylaştırır\n",
    "        - Farklı araç ve özelliklere erişim kolaydır.\n",
    "\n",
    "Biz ders boyunca Visual Studio Code'u kullanacağız. Microsoft tarafından geliştirilmiş bu program, Windowvs, Macos ve Linux için kullanılabilen popüler bir platformdur. VSCode'u kurmak için [buradan resmi sitesine](https://code.visualstudio.com/Download) giderek indirme işlemini yapabilirsiniz.\n",
    "\n",
    "__Enviroment Kurulumu__ \n",
    "\n",
    "Python interpreter mantığıyla çalışır. Bilgisayarınızda farklı Python interpreterlar bulunabilir, ve bu interpreterlar farklı paketler ve farklı paketlerin farklı versiyonlarını içerebilir.Bu paketlerin hepsi birbirleriyle çalışırken bazı paketlerin birbirleriyle çalışmaması durumları da olabilir. Bu durumu engelleyebilmek için Python'un çalıştığı ortamları kontrol edecek yardımcı bir araç olan conda'yı kullanacağız. Conda bilgisayarımızda farklı ortamlar oluşturmamıza ve bu ortamların içerisinde farklı paketlerin kurulmasını sağlar. Bu ders kapsamında conda dağılımı olarak Anaconda'yı kullanacağız. Anaconda'nın kurulumu için [buradan](https://www.anaconda.com/products/navigator) ulaşabilirsiniz. Bu noktadan sonra hangi Python interpreter'ını kullanacağımızı VSCode menüsünden kolayca değiştirebiliriz.\n",
    "\n",
    "\n",
    "__VSCode'da Python yazmak__\n",
    "\n",
    "VSCode'da kendimize bir çalışma ortamı oluşturabilmek için Sağ üstten `File > Open Folder` yaparak açılan pencereden çalışacağımız yeni bir klasör oluşturuyoruz.\n",
    "<br>Daha sonrasında VSCode'da sol üstten Explorer'a tıklıyoruz. Burada şu an çalıştığımız klasörde yer alan dosyalart listeleniyor, ilk python dosyamızı oluşturmak için Explorer yazısının altında, klasörümüzün adı yer alıyor, imlecimimizi oraya götürdüğümüzde ortaya çıkan dümelerden ilki olan `New File...`'a tıklıyoruz. Yeni bir dosyaya isim vermemiz istenecek, bu dosyaya isim verirken sonunda`.py` uzantısı olmasına dikkat ediyoruz. Örneğin `main.py` olarak isim verebilirsiniz.\n",
    "\n",
    "_Ek Bilgi: Dosya uzantıları bir dosyanın türünü, içerisindeki bilginin nasıl bir formatta tutulduğunu ve nasıl işlenmesi gerektiğini belirten kısaltmadır. `.py` uzantısı, kullandığımız programa dosyanın bir python dosyası olduğunu belirtir. Aynı şekilde şu an okuduğunuz doküman `.ipynb` uzantısına zahip bir _Jupyter_ dosyasıdır. Jupiter'in olduğuna birazdan değineceğiz._\n",
    "\n",
    "_Ek Kaynak: VSCode kullaranak Python yazmak hakkında daha detaylı bilgi almak için DataCamp'in makalesine [buradan](https://www.datacamp.com/tutorial/setting-up-vscode-python) ulaşabilirsiniz. Ancak Kurulum için yukarıda yazanlar yeterlidir._\n",
    "\n",
    "\n",
    "__Kod Çalıştırma__\n",
    "\n",
    "Tüm işlemler bittiğine göre, ilk programımızı yazabiliriz. Az önce açtığımız dosyaya giderek `print(\"Hello World!\")` yazalım. Sonrasında dosyamızı kaydetmek için `Ctrl + S` kombinasyonunu kullanalım. (Sol üstte File sekmesinden de yapılabilir ama çok kullanılan kısaltmalara mutlaka alışın) Son olarak kodu çalıştırmak için sağ üstten `Run Code` butonuna tıklayarak kodumuzu çalıştırabiliriz. Sonuç olarak altta terminal açılacak ve karşımıza `Hello World!` yazısı çıkacak.\n",
    "\n",
    "Print içine aldığı değeri yazdırmak için kullanılan bir fonksiyon. Fonksiyonların ne olduğuna ve bu değerlerinin neler olabileceğine ilerleyen derslerde uzun uzun değineceğiz. Şimdilik takılmayın.\n",
    "\n",
    "\n",
    "__Terminal__\n",
    "Terminal, bilgisayarımıza çeşitli komutlar girebileceğimiz ve dönütler alabileceğimiz bir arayüzdür. Terminali ilk başlarda kodlarımızın sonuçlarını almakta kullanacağız, sonrasında biz de bazı girdiler gireceğiz.(Bunun dışında terminal oldukça sık kullandığınız bir araç olacaktır, yazılımda ilerledikçe göreceksiniz.)\n",
    "\n",
    "__Jupyter Notebook__\n",
    "\n",
    "Jupyter Notebook, yazılım öğreten kaynakların sık kullandığı bir araçtır. Metinler, açıklamalar ve kod bloklarının bir arada rahatça bulunabilmesinden dolayı sık tercih edilir. Biz de ders anlatımlarında ve ödevlerin bazı kısımlarında Jupyter'i kullanacağız. __Jupyter dosyalarını çalıştırmaya çalışırken VSCode bir indirme yapmak isterse buna izin vermeniz gerekiyor__\n"
   ]
  }
 ],
 "metadata": {
  "kernelspec": {
   "display_name": "Python 3",
   "language": "python",
   "name": "python3"
  },
  "language_info": {
   "codemirror_mode": {
    "name": "ipython",
    "version": 3
   },
   "file_extension": ".py",
   "mimetype": "text/x-python",
   "name": "python",
   "nbconvert_exporter": "python",
   "pygments_lexer": "ipython3",
   "version": "3.9.13"
  },
  "orig_nbformat": 4
 },
 "nbformat": 4,
 "nbformat_minor": 2
}
