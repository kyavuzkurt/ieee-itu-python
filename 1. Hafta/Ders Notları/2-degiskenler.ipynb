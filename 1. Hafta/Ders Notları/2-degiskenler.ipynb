{
 "cells": [
  {
   "attachments": {},
   "cell_type": "markdown",
   "metadata": {},
   "source": [
    "# <span style=\"color:#0152a1\"> İTÜ IEEE Python Eğitimi</span> \n",
    "## 1. Hafta\n"
   ]
  },
  {
   "attachments": {},
   "cell_type": "markdown",
   "metadata": {},
   "source": [
    "##### Değişkenler\n",
    "__Değişken Tanımlama__\n",
    "\n",
    "Pythonda değişken tanımlarken `=` operatörü kullanılır."
   ]
  },
  {
   "cell_type": "code",
   "execution_count": 1,
   "metadata": {},
   "outputs": [
    {
     "name": "stdout",
     "output_type": "stream",
     "text": [
      "5\n"
     ]
    }
   ],
   "source": [
    "a = 5\n",
    "\n",
    "print(a)"
   ]
  },
  {
   "attachments": {},
   "cell_type": "markdown",
   "metadata": {},
   "source": [
    "Bir değişkenin değerini değiştirmek için tekrar aynı yöntem kullanılabilir"
   ]
  },
  {
   "cell_type": "code",
   "execution_count": 2,
   "metadata": {},
   "outputs": [
    {
     "name": "stdout",
     "output_type": "stream",
     "text": [
      "20\n",
      "0\n"
     ]
    }
   ],
   "source": [
    "b = 20\n",
    "print(b)\n",
    "b = 0\n",
    "print(b)"
   ]
  },
  {
   "attachments": {},
   "cell_type": "markdown",
   "metadata": {},
   "source": [
    "Eşitliğin sol tarafındaki ifade değişkenimizin adını, sağ tarafındaki ise bu değişkenin değerini ifade eder. Bu atamayı yaptıktan sonra, bilgisayarımız 5 değerini önbelleğinde saklamaya başlar. Bundan sonra kodda `a` geçtiğinde tanır. \n",
    "Değişkenlerimizi isimlendirirken bazı konulara dikkat etmemiz gerekir:\n",
    "- Değişken adı bir harf veya `_` ile başlar\n",
    "- Değişken adı sadece alfabetik karakterler, sayılar ve `_` karakterini içerir.\n",
    "- Değişken isimlerini tuttukları veriyle bağlantılı yaparız, bu sayede uzun kodlar içerisinde kafamız karışmaz\n",
    "- Değişken adlarında türkçe karakterler kullanmak her zaman problem yaratmasa da bundan kaçınırız.\n",
    "    \n",
    "Bu şekilde farklı veri tiplerini saklayabilir, değiştirebilir ve kullanabiliriz. Bu veri tiplerinin ne olduğunda bakalım:\n",
    "\n",
    "__Sayı veri tipleri__\n",
    "\n",
    "Pythonda 3 farklı sayı veri tipi vardır. Bunlar: `integer` (tam sayı), `float` (ondalık sayı), `complex` (karmaşık sayı). Bu veri tiplerini birer değişkene atayacak olursak."
   ]
  },
  {
   "cell_type": "code",
   "execution_count": 2,
   "metadata": {},
   "outputs": [
    {
     "name": "stdout",
     "output_type": "stream",
     "text": [
      "<class 'int'>\n",
      "<class 'float'>\n",
      "<class 'complex'>\n"
     ]
    }
   ],
   "source": [
    "b = 5 # Integer\n",
    "c = - 7.8 # Float\n",
    "d = 1j # Complex\n",
    "\n",
    "print(type(b))\n",
    "print(type(c))\n",
    "print(type(d))"
   ]
  },
  {
   "attachments": {},
   "cell_type": "markdown",
   "metadata": {},
   "source": [
    "Örnekte görüldüğü üzere, `type()` fonksiyonu bize içine aldığı değerin türünü verir. Sık kullandığımız bir araçtır.\n",
    "\n",
    "Kodda gördüğünüz `#` işareti yorum satırı eklemek için kullanılır. Bilgisayar kodu çalıştırırken buraları işleme almaz.\n",
    "\n",
    "Karmaşık sayılar, mühendislik ve matematik projeleri dışında pek kullanılmadığından sık karşımıza çıkmaz. Bu yüzden float ve int üzerine odaklanalım.\n",
    "\n",
    "Bir başka önemli konu değişken türlerini birbirlerine çevirebilmektir. Bunu şu şekilde yapıyoruz:"
   ]
  },
  {
   "cell_type": "code",
   "execution_count": 3,
   "metadata": {},
   "outputs": [
    {
     "name": "stdout",
     "output_type": "stream",
     "text": [
      "Önce\n",
      "5\n",
      "7.8\n",
      "Sonra\n",
      "5.0\n",
      "7\n"
     ]
    }
   ],
   "source": [
    "sayi1 = 5 # Integer\n",
    "sayi2 = 7.8 # Float\n",
    "\n",
    "print(\"Önce\") # İlk değerlerin yazdırılması\n",
    "print(sayi1)\n",
    "print(sayi2)\n",
    "\n",
    "sayi1 = float(sayi1)\n",
    "sayi2 = int(sayi2)\n",
    "print(\"Sonra\") # Yeni değerlerin yazdırılması\n",
    "print(sayi1)\n",
    "print(sayi2)"
   ]
  },
  {
   "attachments": {},
   "cell_type": "markdown",
   "metadata": {},
   "source": [
    "`float()` fonskiyonu içine aldığı değeri float, `int()` fonksiyonu integer tipine dönüştürdü.\n",
    "\n",
    "__Metin veri tipi: String__\n",
    "\n",
    "String, harf rakam vb karakterlerden, yani metinlerden oluşan veri tipidir. Bir string aşağıdaki şekilde tanımlanır:"
   ]
  },
  {
   "cell_type": "code",
   "execution_count": null,
   "metadata": {},
   "outputs": [],
   "source": [
    "a = \"Hello World!\"\n",
    "b = \"5\" # Burada b değeri integer değil string oluyor.\n",
    "print(a)\n",
    "print(b)"
   ]
  },
  {
   "attachments": {},
   "cell_type": "markdown",
   "metadata": {},
   "source": [
    "Bilgisayar kodu çalıştırırken `\"` işareti içerisindeki ifadelerin birer komut değil de metin olduğunu anlayarak çalıştırmayı denemez. Yukarıdaki örnekte 5 değeri tırnak işareti içerisinde alındığı için bilgisayar string olarak değişkene atar.\n",
    "\n",
    "String değişkenlerin de veri tipleri sayılarda olduğu gibi değişebilir:"
   ]
  },
  {
   "cell_type": "code",
   "execution_count": 1,
   "metadata": {},
   "outputs": [
    {
     "name": "stdout",
     "output_type": "stream",
     "text": [
      "İşlemden önce\n",
      "<class 'str'>\n",
      "İşlemden sonra\n",
      "<class 'int'>\n"
     ]
    }
   ],
   "source": [
    "txt = \"10\"\n",
    "print(\"İşlemden önce\")\n",
    "print(type(txt)) \n",
    "txt = int(txt) # değişkenin tipini değiştirerek yine kendisine atıyoruz\n",
    "print(\"İşlemden sonra\")\n",
    "print(type(txt)) "
   ]
  },
  {
   "attachments": {},
   "cell_type": "markdown",
   "metadata": {},
   "source": [
    "Aslında string'ler, içerlerindeki her bir karakteri (harf, rakam, sembol, boşluk vb) ayrı bir elemanı olan dizilerin birleşmesinden oluşur ve bize kolaylık sağlar. Dizileri gördüğümüzde bu konuya tekrar değineceğiz\n",
    "\n",
    "__Boolean__\n",
    "\n",
    "Doğru veya yanlış değerlerinden birini alan verilerdir. Şu şekilde tanımlanabilir ve başka tiplere dönüştürülebilir:"
   ]
  },
  {
   "cell_type": "code",
   "execution_count": 2,
   "metadata": {},
   "outputs": [
    {
     "name": "stdout",
     "output_type": "stream",
     "text": [
      "1\n",
      "False\n"
     ]
    }
   ],
   "source": [
    "a = True\n",
    "b = 0\n",
    "\n",
    "new_a = int(a) # Boolean değer integer'a dönüştürülüyor\n",
    "new_b = bool(b) # Integer değer boolean'a dönüştürülüyor\n",
    "\n",
    "print(new_a)\n",
    "print(new_b)"
   ]
  },
  {
   "attachments": {},
   "cell_type": "markdown",
   "metadata": {},
   "source": [
    "Gördüğünüz üzere 0 ve 1 değerleri, `False` ve `True` değerlerine karşılık geliyor. Yazılımda veri tiplerini birbirlerine dönüştürmek işe yarar. Ancak, bu dönüşümleri mantıklı yapmak gerekir. Örneğin `Hello World` ifadesi bir stringdir, ancak integera dönüştürülemez, hata alırsınız. Sayısal olarak bir karşılığı yoktur. Ancak `True` stringini boolean'a çevirmek isterseniz çevirirsiniz."
   ]
  },
  {
   "cell_type": "code",
   "execution_count": null,
   "metadata": {},
   "outputs": [],
   "source": [
    "# Doğru kullanımlar:\n",
    "int(\"10\")\n",
    "str(10)\n",
    "bool(1)\n",
    "bool(\"True\")\n",
    "bool(5)\n",
    "float(\"12.5\")\n",
    "float(False)\n",
    "\n",
    "# Yanlış Kullanımlar:\n",
    "bool(\"Deneme\")\n",
    "int(\"****\")\n",
    "float(\"Hello World\")"
   ]
  }
 ],
 "metadata": {
  "kernelspec": {
   "display_name": "Python 3",
   "language": "python",
   "name": "python3"
  },
  "language_info": {
   "codemirror_mode": {
    "name": "ipython",
    "version": 3
   },
   "file_extension": ".py",
   "mimetype": "text/x-python",
   "name": "python",
   "nbconvert_exporter": "python",
   "pygments_lexer": "ipython3",
   "version": "3.10.12"
  },
  "orig_nbformat": 4
 },
 "nbformat": 4,
 "nbformat_minor": 2
}
