{
 "cells": [
  {
   "attachments": {},
   "cell_type": "markdown",
   "metadata": {},
   "source": [
    "# <span style=\"color:#0152a1\"> İTÜ IEEE Python Eğitimi</span> \n",
    "## 1. Hafta\n"
   ]
  },
  {
   "attachments": {},
   "cell_type": "markdown",
   "metadata": {},
   "source": [
    "##### Operatörler\n",
    "\n",
    "Operatörler veri ve değişkenlere belli işlemleri yapmak için kullandığımız araçlardır. Bir çok operatörü günlük hayattan tanırız.\n",
    "\n",
    "__Aritmetik operatörler__\n",
    "\n",
    "Adından da anlaşılacağı üzere aritmetik işlemleri yapmamızı sağlayan operatörlerdir.\n",
    "\n",
    "    - Toplama: +\n",
    "    - Çıkarma: -\n",
    "    - Çarpma: *\n",
    "    - Bölme: /\n",
    "    - Mod: % (Kalan Hesaplamakta kullanılır)\n",
    "    - Üs Alma: **\n"
   ]
  },
  {
   "attachments": {},
   "cell_type": "markdown",
   "metadata": {},
   "source": [
    "Aritmatik operatörler, tahmin edilebileceği üzerine çoğunlukla sayısal veriler üzerinde kullanılır."
   ]
  },
  {
   "cell_type": "code",
   "execution_count": null,
   "metadata": {},
   "outputs": [],
   "source": [
    "sayi1 = 5\n",
    "sayi2 = 10\n",
    "\n",
    "sonuc = sayi1 + sayi2\n",
    "print(sonuc)"
   ]
  },
  {
   "cell_type": "code",
   "execution_count": 1,
   "metadata": {},
   "outputs": [
    {
     "name": "stdout",
     "output_type": "stream",
     "text": [
      "4\n"
     ]
    }
   ],
   "source": [
    "sayi3 = 102\n",
    "sayi4 = 7\n",
    "\n",
    "sonuc = sayi3 % sayi4\n",
    "\n",
    "print(sonuc)"
   ]
  },
  {
   "attachments": {},
   "cell_type": "markdown",
   "metadata": {},
   "source": [
    "Ancak bazı durumlarda farklı veri tiplerinde de aritmetik operatörleri kullanmak isteyebiliriz. Bu durum kimi zaman ilginç durumlara ve istisnalara yol açar:"
   ]
  },
  {
   "cell_type": "code",
   "execution_count": 3,
   "metadata": {},
   "outputs": [
    {
     "name": "stdout",
     "output_type": "stream",
     "text": [
      "Hello World!\n"
     ]
    }
   ],
   "source": [
    "txt1 = \"Hello \"\n",
    "txt2 = \"World!\"\n",
    "\n",
    "print(txt1 + txt2)"
   ]
  },
  {
   "cell_type": "code",
   "execution_count": 6,
   "metadata": {},
   "outputs": [
    {
     "name": "stdout",
     "output_type": "stream",
     "text": [
      "57\n"
     ]
    }
   ],
   "source": [
    "a = \"5\"\n",
    "b = \"7\"\n",
    "\n",
    "print(a + b) # Toplanan 2 ifade de string, sayısal bir işlem gerçekleşmez"
   ]
  },
  {
   "attachments": {},
   "cell_type": "markdown",
   "metadata": {},
   "source": [
    "Farklı kullanımlar olabilir ve kimi zaman dikkatsizlikten hatalar veya istenmeyen sonuçlar oluşabilir."
   ]
  },
  {
   "attachments": {},
   "cell_type": "markdown",
   "metadata": {},
   "source": [
    "__Atama Operatörleri__\n",
    "\n",
    "Değişkenlere değer atamak için kullanılır. Bir çok farklı operatör olsa da, bir kısmına pek rastlanmaz. Sık kullanılanları:\n",
    "   \n",
    "- `= `  :Değişkene değer atar\n",
    "- `+=` :Değişkene bir değer ekleyerek yine kendisine atar\n",
    "- `-=` :Değişkenden bir değer çıkartarak yine kendisine atar\n",
    "- `*=` :Değişkeni bir değerle çarparak yine kendisine atar\n",
    "- `/=` :Değişkeni bir değere bölerek yine kendisine atar\n",
    "\n",
    "Temel `=` haricinde, diğer operatörler genellikle döngülerde ve tekrar eden işlemlerde kullanılır. Bu konuya daha sonra tekrar döneceğiz. Bazı önrke kullanımlara bakacak olursak"
   ]
  },
  {
   "cell_type": "code",
   "execution_count": 8,
   "metadata": {},
   "outputs": [
    {
     "name": "stdout",
     "output_type": "stream",
     "text": [
      "110\n"
     ]
    }
   ],
   "source": [
    "a = 100\n",
    "a += 10\n",
    "print(a)"
   ]
  },
  {
   "cell_type": "code",
   "execution_count": 9,
   "metadata": {},
   "outputs": [
    {
     "name": "stdout",
     "output_type": "stream",
     "text": [
      "26\n"
     ]
    }
   ],
   "source": [
    "b = 2\n",
    "b *= 13\n",
    "\n",
    "print(b)"
   ]
  },
  {
   "attachments": {},
   "cell_type": "markdown",
   "metadata": {},
   "source": [
    "__Karşılaştırma Operatörleri__\n",
    "\n",
    "2 değeri, veya tabi değişkeni kıyaslayan, ve sonuç olarak boolean (`True` veya `False`) bir değer veren operatörler\n",
    "- `==` : Eşit (`=` atama yapmakta `==` karşılaştırmada kullanılır. Çok karıştırılır.)\n",
    "- `!=` : Eşit değil\n",
    "- `>` : Büyük\n",
    "- `<` : Küçük\n",
    "- `>=` : Büyük Eşit\n",
    "- `<=` : Küçük Eşit"
   ]
  },
  {
   "cell_type": "code",
   "execution_count": 12,
   "metadata": {},
   "outputs": [
    {
     "name": "stdout",
     "output_type": "stream",
     "text": [
      "True\n"
     ]
    }
   ],
   "source": [
    "print(10 > 5)"
   ]
  },
  {
   "cell_type": "code",
   "execution_count": 18,
   "metadata": {},
   "outputs": [
    {
     "name": "stdout",
     "output_type": "stream",
     "text": [
      "False\n",
      "True\n"
     ]
    }
   ],
   "source": [
    "x = 10\n",
    "y = \"10\"\n",
    "\n",
    "result = x == y \n",
    "print(result) # Aynı gibi gözükse de farklı tip veriler oldukları için False dönüşü alınır.\n",
    "\n",
    "y = int(y)\n",
    "\n",
    "new_result = x == y\n",
    "print(new_result) # Sorun böyle çözülebilir"
   ]
  },
  {
   "cell_type": "code",
   "execution_count": 19,
   "metadata": {},
   "outputs": [
    {
     "name": "stdout",
     "output_type": "stream",
     "text": [
      "False\n"
     ]
    }
   ],
   "source": [
    "x = 5\n",
    "y = 3\n",
    "y += 2\n",
    "\n",
    "print(x != y) # y 3 atanıp, kendisine 2 eklendiğinde 5 olur. x te 5 olduğu için eşit olurlar, eşit değil operatörü false dönüş yapar"
   ]
  },
  {
   "attachments": {},
   "cell_type": "markdown",
   "metadata": {},
   "source": [
    "__Mantık Operatörleri__\n",
    "\n",
    "Koşullu olayları bağlayarak yine `True` - `False` değerler döndürür.\n",
    "- `and` : ve operatörü. 2 ifade de doğruysa doğrudur.\n",
    "- `or` : veya operatörü. ifadelerden biri doğruysa doğrudur.\n",
    "- `not`: tersi operatörü. ifade yanlışsa doğrudur\n",
    "- `in` : bir değerin bir liste, veya dizi içinde olup olmadığını kontrol eder."
   ]
  },
  {
   "cell_type": "code",
   "execution_count": null,
   "metadata": {},
   "outputs": [],
   "source": [
    "a = True\n",
    "b = False\n",
    "print(a and b)"
   ]
  },
  {
   "cell_type": "code",
   "execution_count": null,
   "metadata": {},
   "outputs": [],
   "source": [
    "a = True\n",
    "b = False\n",
    "print(a and a)"
   ]
  },
  {
   "cell_type": "code",
   "execution_count": null,
   "metadata": {},
   "outputs": [],
   "source": [
    "a = True\n",
    "b = False\n",
    "print(a or b)"
   ]
  },
  {
   "cell_type": "code",
   "execution_count": null,
   "metadata": {},
   "outputs": [],
   "source": [
    "a = True\n",
    "b = False\n",
    "print(not a)"
   ]
  },
  {
   "cell_type": "code",
   "execution_count": null,
   "metadata": {},
   "outputs": [],
   "source": [
    "a = True\n",
    "b = False\n",
    "print(not b)"
   ]
  },
  {
   "cell_type": "code",
   "execution_count": null,
   "metadata": {},
   "outputs": [],
   "source": [
    "liste = [1,2,3,4,5]\n",
    "print(1 in liste)\n",
    "print(10 in liste)\n"
   ]
  }
 ],
 "metadata": {
  "kernelspec": {
   "display_name": "Python 3",
   "language": "python",
   "name": "python3"
  },
  "language_info": {
   "codemirror_mode": {
    "name": "ipython",
    "version": 3
   },
   "file_extension": ".py",
   "mimetype": "text/x-python",
   "name": "python",
   "nbconvert_exporter": "python",
   "pygments_lexer": "ipython3",
   "version": "3.10.12"
  },
  "orig_nbformat": 4
 },
 "nbformat": 4,
 "nbformat_minor": 2
}
