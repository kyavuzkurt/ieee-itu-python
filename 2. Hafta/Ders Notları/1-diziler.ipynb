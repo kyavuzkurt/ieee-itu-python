{
 "cells": [
  {
   "attachments": {},
   "cell_type": "markdown",
   "metadata": {},
   "source": [
    "# <span style=\"color:#0152a1\"> İTÜ IEEE Python Eğitimi</span> \n",
    "## 2. Hafta\n"
   ]
  },
  {
   "attachments": {},
   "cell_type": "markdown",
   "metadata": {},
   "source": [
    "##### Diziler (Array)\n",
    "\n",
    "Diziler, Python'da bir değişken de birden fazla veri saklamamızı sağlayan değişken türleridir. Farklı türleri mevcuttur.\n",
    "\n",
    "\n",
    "__List__\n",
    "\n",
    "Pythonda en çok kullanılan dizi tipidir. Elemanlar sıralı saklanır, değiştirilebilir ve aynı eleman birden fazla kez bulunabilir.\n",
    "<br> Bir liste şu şekilde tanımlanır:"
   ]
  },
  {
   "cell_type": "code",
   "execution_count": null,
   "metadata": {},
   "outputs": [],
   "source": [
    "sesli_harfler = [\"a\",\"e\",\"ı\",\"i\",\"o\",\"ö\",\"u\",\"ü\"] # Listeler tek bir tür eleman barındırabileceği gibi;\n",
    "liste_2 = [\"i\", \"t\", \"ü\", 1, 7, 7, 3.14, False] # Farklı tip elemanlardan da oluşabilir\n",
    "\n",
    "print(sesli_harfler)\n",
    "print(type(sesli_harfler))\n",
    "print(len(sesli_harfler)) # len() fonksiyonu, bir dizinin eleman sayısını verir.\n",
    "\n",
    "print(liste_2)\n",
    "print(type(liste_2))\n",
    "print(len(liste_2)) "
   ]
  },
  {
   "attachments": {},
   "cell_type": "markdown",
   "metadata": {},
   "source": [
    "**Listedeki Elemanlara Erişmek**\n",
    "\n",
    "Bahsettiğimiz gibi, listedeki elemanlar belirli bir sırayla tutulur. Bu sıraya `index` adı verilir. 0'dan başlar. (Bu yüzden son elemanın index'i [mantıken liste uzunluğu] - 1 olur) Elemanların indexlerini kullanarak onlara erişebiliriz."
   ]
  },
  {
   "cell_type": "code",
   "execution_count": null,
   "metadata": {},
   "outputs": [],
   "source": [
    "rakamlar = [1, 2, 3, 4, 5, 6, 7 , 8, 9, 0]\n",
    "\n",
    "print(rakamlar[0])\n",
    "print(rakamlar[5])\n",
    "\n",
    "print(rakamlar[-1]) # negatif indexlerler ile sondan başa doğru da gidebiliriz.\n",
    "print(rakamlar[-10])\n",
    "\n"
   ]
  },
  {
   "attachments": {},
   "cell_type": "markdown",
   "metadata": {},
   "source": [
    "**Liste Aralıkları**\n",
    "\n",
    "Aynı yöntemi kullanarak ana listemizden alt listeler oluşturabiliriz.\n",
    "\n"
   ]
  },
  {
   "cell_type": "code",
   "execution_count": null,
   "metadata": {},
   "outputs": [],
   "source": [
    "rakamlar = [1, 2, 3, 4, 5, 6, 7 , 8, 9, 0]\n",
    "\n",
    "ilk_uc = rakamlar[0:3]\n",
    "son_uc = rakamlar[-3:] # Bir ifadeyi girmezsek, sonuna kadar devam ediyor.\n",
    "ciftler = rakamlar[1::2] # Bu şekilde kullanarak 3. girdiğimiz değer, kaçar kaçar atlayacağımızı belirtiyor.\n",
    "\n",
    "print(f\"Listedeki ilk 3 eleman: {ilk_uc}\\nListedeki son üç eleman: {son_uc}\\nListedeki çift elemanlar: {ciftler}\")\n",
    "\n"
   ]
  },
  {
   "attachments": {},
   "cell_type": "markdown",
   "metadata": {},
   "source": [
    "__Yararlı fonksiyon ve kavramlar__\n",
    "\n",
    "- `in` : listede bir elemanın olup olmadığını verir.\n",
    "- `.count()` parametre olarak girilen elemanın listede kaç tane olduğunu verir.\n",
    "- `.append()` parametre olarak girilen ifadeyi liste sonuna ekler.\n",
    "- `.extend()` parametre olarak girilen listeyi listenin sonuna ekler\n",
    "- `.pop()` parametre olarak girilen index'teki elemanı listeden siler.\n",
    "- `.remove()` parametre olarak girilen değerdeki elemanları listeden siler.\n",
    "\n",
    "En çok kullanılan metodları listeledik, diğerlerine [buradan](https://www.w3schools.com/python/python_lists_methods.asp) ulaşabilirsin\n",
    "<br>Bunların kullanımlarını incelersek:"
   ]
  },
  {
   "cell_type": "code",
   "execution_count": null,
   "metadata": {},
   "outputs": [],
   "source": [
    "data = [\"İTÜ\", \"since\", 1773, True]\n",
    "\n",
    "print(\"İTÜ\" in data)\n",
    "print(data.count(\"1773\")) # 0, çünkü string değil integer olarak var 1773\n",
    "\n",
    "data.append(\"IEEE\")\n",
    "print(data)\n",
    "data.pop(3)\n",
    "data.remove(1773)\n",
    "print(data.index(\"IEEE\"))\n",
    "print(data)"
   ]
  },
  {
   "attachments": {},
   "cell_type": "markdown",
   "metadata": {},
   "source": [
    "Belirli bir konumdaki elemanın değiştirilmesi için yine `[]` işareti kullanılır."
   ]
  },
  {
   "cell_type": "code",
   "execution_count": null,
   "metadata": {},
   "outputs": [],
   "source": [
    "liste = [\"A\", \"B\", \"C\", \"D\"]\n",
    "\n",
    "liste[1] = \"X\"\n",
    "print(liste)"
   ]
  },
  {
   "attachments": {},
   "cell_type": "markdown",
   "metadata": {},
   "source": [
    "**Tuple**\n",
    "\n",
    "Bir diğer dizi türüdür. Elemanlar sıralı depolanır, ancak tuple'lar değiştirilemez. Bu sebeple değişmeyen verilerin saklanmasında oldukça kullanışlıdır. listelerle ortak bir çok metoda ve kullanıma sahiptir.\n",
    "<br>Tanımlanması ve kullanımı şu şekildedir:"
   ]
  },
  {
   "cell_type": "code",
   "execution_count": null,
   "metadata": {},
   "outputs": [],
   "source": [
    "rakamlar = (1, 2, 3, 4, 5, 6, 7 , 8, 9, 0)\n",
    "\n",
    "ilk_uc = rakamlar[0:3]\n",
    "son_uc = rakamlar[-3:] # Bir ifadeyi girmezsek, sonuna kadar devam ediyor.\n",
    "ciftler = rakamlar[1::2] # Bu şekilde kullanarak 3. girdiğimiz değer, kaçar kaçar atlayacağımızı belirtiyor.\n",
    "\n",
    "print(f\"Listedeki ilk 3 eleman: {ilk_uc}\\nListedeki son üç eleman: {son_uc}\\nListedeki çift elemanlar: {ciftler}\")"
   ]
  },
  {
   "attachments": {},
   "cell_type": "markdown",
   "metadata": {},
   "source": [
    "Tuple'lar, fonksiyonlar ve kullanımları açısından listelere çok benzerler. Ancak bir düzenleme veya eklemeye yapma konusunda farklılardır. Listelerdeki gibi bir değişiklik yapmaya çalıştığımızda, hata alacağız:"
   ]
  },
  {
   "cell_type": "code",
   "execution_count": null,
   "metadata": {},
   "outputs": [],
   "source": [
    "rakamlar[2] = 100"
   ]
  },
  {
   "attachments": {},
   "cell_type": "markdown",
   "metadata": {},
   "source": [
    "Değişiklikler yapacağımız bir dizinin, tuple yerine array olmasını tercih ederiz. Ancak zorunlu kaldığımız durumlarda, `list()` fonksiyonunu kullanarak, tuple dizimizi listeye çevirip, gerekli değişikliği yaparak, sonrasında tekrar `tuple()` fonksiyonuyla tekrar tuple tiğine çevrilir."
   ]
  },
  {
   "attachments": {},
   "cell_type": "markdown",
   "metadata": {},
   "source": [
    "**Set**\n",
    "\n",
    "Kümeler, bir diğer dizi tipidir. Tuple gibi elemanlar değiştirilemez, ancak elemanlar eklenip çıkarılabilir. Aynı elemandan sadece bir adet tutarlar ve verileri sıralı olarak tutmazlar, yani elemanların `index`leri yoktur."
   ]
  },
  {
   "cell_type": "code",
   "execution_count": null,
   "metadata": {},
   "outputs": [],
   "source": [
    "küme = {\"defter\", \"kalem\", True, \"kalem\", 5}\n",
    "print(küme)"
   ]
  },
  {
   "attachments": {},
   "cell_type": "markdown",
   "metadata": {},
   "source": [
    "Tuple'lardan farklı olarak, kümelere elemanlar eklenip çıkartılabilir:"
   ]
  },
  {
   "cell_type": "code",
   "execution_count": null,
   "metadata": {},
   "outputs": [],
   "source": [
    "rakamlar = {1, 2, 3}\n",
    "harfler = [\"A\", \"B\", \"A\"]\n",
    "\n",
    "rakamlar.add(4)  # bir eleman ekleme\n",
    "\n",
    "print(rakamlar)\n",
    "\n",
    "rakamlar.update(harfler)# Başka bir diziyi kümeye eklemek\n",
    "print(rakamlar) # Fark ettiyseniz A 2 kere tekrarlanmadı, kümeler eleman tekrarları içermez\n",
    "\n",
    "rakamlar.remove(\"B\")"
   ]
  },
  {
   "attachments": {},
   "cell_type": "markdown",
   "metadata": {},
   "source": [
    "**Dictionary**\n",
    "\n",
    "Key (anahtar) - value (değer) ikilileri olarak elemanları saklayan dizilerdir. Üzerinde rahatlıkla değişiklikler yapılabilir ve elemanları düzenli tutmakta oldukça kullanışlıdır"
   ]
  },
  {
   "cell_type": "code",
   "execution_count": null,
   "metadata": {},
   "outputs": [],
   "source": [
    "araba = {\n",
    "  \"marka\": \"Ford\",\n",
    "  \"model\": \"Mustang\",\n",
    "  \"yıl\": 1967\n",
    "}\n",
    "print(araba)\n",
    "print(type(araba))"
   ]
  },
  {
   "attachments": {},
   "cell_type": "markdown",
   "metadata": {},
   "source": [
    "Value olarak farklı tür veriler girilebilir ancak key olarak genellikle string ifadeler kullanılır. Dictionary'lerin elemanlarına aşağıdaki şekilde erişilebilir veya değişiklikler yapılabilir:"
   ]
  },
  {
   "cell_type": "code",
   "execution_count": null,
   "metadata": {},
   "outputs": [],
   "source": [
    "araba[\"yıl\"] = 2022 # yıl değerini değiştirdik\n",
    "araba[\"renk\"] = \"siyah\" # renk özelliğini eklemek bu kadar kolaydır\n",
    "del araba[\"model\"] # Model elemanını sildik.\n",
    "\n",
    "print(araba)\n"
   ]
  },
  {
   "cell_type": "markdown",
   "metadata": {},
   "source": [
    "### Numpy Array\n",
    "\n",
    "Python'un kendi dizileri lineer cebir işlemlerini yapmak için yeterli değildir. Bu sebeple daha gelişmiş diziler için Numpy paketini kullanacağız. Numpy dizileri, lineer cebir işlemlerini kolayca yapmamızı sağlar. \n",
    "\n",
    "Öncelikle Numpy'ı kullanabilmek için ortamımıza Numpy'ı kurmamız gerekiyor. VSCode terminalinden \n",
    "\n",
    "```bash\n",
    "pip install numpy\n",
    "```\n",
    "\n",
    "kombinasyonunu kullanarak Numpy'ı kurabiliriz. Numpy'ı kurduktan sonra, Numpy'ı kullanabilmek için ortamımıza Numpy'ı import etmemiz gerekiyor. Bundan sonra lineer cebir işlemlerini yapabilmek için Numpy'ın array fonksiyonunu kullanacağız.\n",
    "\n"
   ]
  },
  {
   "cell_type": "code",
   "execution_count": null,
   "metadata": {},
   "outputs": [],
   "source": [
    "import numpy as np\n",
    "\n",
    "example_array =np.array([1, 2, 3, 4, 5])\n",
    "\n",
    "print(example_array)\n",
    "\n",
    "zero_array = np.zeros(10)\n",
    "print(zero_array)\n",
    "\n",
    "one_array = np.ones(10)\n",
    "print(one_array)\n",
    "\n"
   ]
  },
  {
   "cell_type": "code",
   "execution_count": null,
   "metadata": {},
   "outputs": [],
   "source": [
    "import numpy as np\n",
    "\n",
    "nparray1 = np.array([1, 2, 3, 4, 5])\n",
    "nparray2 = np.array([6, 7, 8, 9, 10])\n",
    "\"\"\"\n",
    "Numpy dizileri lineer cebirsel işlemler için kullanılırken, listelerdeki gibi işlemler için kullanılmaz. \n",
    "\"\"\"\n",
    "print(nparray1 + nparray2) #Bu satırda diziler arası toplama işlemini görebiliriz.\n",
    "print(nparray1 * nparray2) #Bu satırda diziler arası çarpma işlemini görebiliriz.\n",
    "print(nparray1 / nparray2) #Bu satırda diziler arası bölme işlemini görebiliriz.\n",
    "print(nparray1 - nparray2) #Bu satırda diziler arası çıkarma işlemini görebiliriz.\n",
    "\n",
    "pyarray1 = [1, 2, 3, 4, 5]\n",
    "pyarray2 = [6, 7, 8, 9, 10]\n",
    "\"\"\"\n",
    "Python listeleri Numpy aksine lineer cebirsel işlemler için kullanılamaz.\n",
    "\"\"\"\n",
    "print(pyarray1 + pyarray2) #Bu satırda string birleştirme işleminin benzerini görebiliriz.\n",
    "print(pyarray1 * pyarray2) #Bu satırda hata alırız.\n",
    "print(pyarray1 / pyarray2) #Bu satırda hata alırız.\n",
    "print(pyarray1 - pyarray2) #Bu satırda hata alırız.\n"
   ]
  }
 ],
 "metadata": {
  "kernelspec": {
   "display_name": "Python 3",
   "language": "python",
   "name": "python3"
  },
  "language_info": {
   "codemirror_mode": {
    "name": "ipython",
    "version": 3
   },
   "file_extension": ".py",
   "mimetype": "text/x-python",
   "name": "python",
   "nbconvert_exporter": "python",
   "pygments_lexer": "ipython3",
   "version": "3.10.12"
  },
  "orig_nbformat": 4
 },
 "nbformat": 4,
 "nbformat_minor": 2
}
