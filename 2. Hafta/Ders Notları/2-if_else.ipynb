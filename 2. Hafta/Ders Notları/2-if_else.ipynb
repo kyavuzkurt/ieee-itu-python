{
 "cells": [
  {
   "attachments": {},
   "cell_type": "markdown",
   "metadata": {},
   "source": [
    "# <span style=\"color:#0152a1\"> İTÜ IEEE Python Eğitimi</span> \n",
    "## 2. Hafta\n"
   ]
  },
  {
   "attachments": {},
   "cell_type": "markdown",
   "metadata": {},
   "source": [
    "##### If - Else Yapıları\n",
    "\n",
    "Farklı koşullara (condition) göre kodumuzda işlemler gerçekleştirmek için oldukça sık kullandığımız ifadelerdir. Adından da anlaşılacağı üzere `boolean` türünden bir koşulun gerçekleşip gerçekleşmeyeceğine bakar.\n",
    "- `if` ilk olarak bakılan kısımdır\n",
    "- `elif` (else if) if gerçekleşmezse kod bu koşula bakar. Birden fazla elif kullanmak mümkündür.\n",
    "- `else` hiçbir `if` ve `elif` çalışmazsa kesin olarak çalışacak kısımdır.\n",
    "\n",
    "Örnek inceleyecek olursak:"
   ]
  },
  {
   "cell_type": "code",
   "execution_count": 3,
   "metadata": {},
   "outputs": [
    {
     "name": "stdout",
     "output_type": "stream",
     "text": [
      "if çalıştı!\n"
     ]
    }
   ],
   "source": [
    "a = 11 # Bu değeri değiştirerek deneyebilirsiniz\n",
    "\n",
    "if a > 10:\n",
    "    print(\"if çalıştı!\")\n",
    "\n",
    "elif a > 5:\n",
    "    print(\"elif çalıştı!\")\n",
    "\n",
    "else:\n",
    "    print(\"else çalıştı\")\n",
    "\n",
    "if a > 5:\n",
    "    print(\"2. if çalıştı!\")"
   ]
  },
  {
   "attachments": {},
   "cell_type": "markdown",
   "metadata": {},
   "source": [
    "Yukarıda `>` operatörünü kullanarak basit bir karşılaştırma örneği yaptık. Hatırlayacağımız üzere `>` operatörü 2 değeri karşılaştırarak bir boolean sonuç veriliyordu.\n",
    "<br><br> Fark edeceğiniz üzere, yukarıda : işaretini ve birer boşluk kullandık. Buna indentation adı veriliyor. Bir if-selse yapısı, döngü, fonksiyon vb oluştururken, bu içeriğe ait öğeleri bir \"TAB\" uzakta yazıyoruz. Bu sayede program kodun ne kadarlık kısmının o yapıya ait olduğunu anlayabiliyor. : işareti de indentation yapılacak yerlerde bu şekilde kullanılıyor. (Bir çok programlama dilinde bunun yerine farklı parantez kullanımları mevcut. Python'da bulundan indetation durumu oldukça basitleştiriyor.)\n",
    "\n",
    "<br>Biraz daha örnek inceleyecrek durumu daha iyi kavrayalım:\n"
   ]
  },
  {
   "cell_type": "code",
   "execution_count": null,
   "metadata": {},
   "outputs": [],
   "source": [
    "sayi = 10\n",
    "\n",
    "if sayi > 0: # Pozitif ise direkt döndürülür\n",
    "    print(\"sayi\")\n",
    "\n",
    "elif sayi < 0: # Negatif ise ters işaretlisi döndürülür\n",
    "    sayi *= -1 # Pozitife çevirdik\n",
    "    print(\"sayi\")\n",
    "\n",
    "else: # Eşitliği kontrol etmek için == kullanıyoruz, = değişken atamamıza yarıyordu\n",
    "    print(\"0\")"
   ]
  },
  {
   "attachments": {},
   "cell_type": "markdown",
   "metadata": {},
   "source": [
    "Örnek olarak oldukça basit bir kod yazmış olsak da, Python'da if-else yapısı çok farklı koşulları kontrol etmek için kullanılabilir. Ayrıca evet, `else` kısmını yazmak yerine 0'ı başka bir yere de dahil etsek problem olmazdı. (Ve ayrıca mutlak değer almak için bu kadar uğraşmamıza gerek yok, bunun için basit fonksiyonlar var, örnek olsun diye bu metodu kullandık)\n",
    "\n",
    "Başka bir örnek:"
   ]
  },
  {
   "cell_type": "code",
   "execution_count": null,
   "metadata": {},
   "outputs": [],
   "source": [
    "sinif = {\n",
    "    \"Ali\" : [40, 50, 70],\n",
    "    \"Zehra\" : [50, 45, 82],\n",
    "    \"Efe\" :  [10, 30, 65]\n",
    "}\n",
    "\n",
    "ogrenci = input(\"Öğrenci adı:\")\n",
    "\n",
    "if(not ogrenci in sinif): # Verilen isim listemizde yoksa\n",
    "    print(\"Listede olmayan bir öğrenci adı girdiniz!\")\n",
    "\n",
    "else:\n",
    "    notlar = sinif[ogrenci]\n",
    "    toplam = notlar[0] + notlar[1] + notlar[2] # 3 notun toplamak için tüm elemanları ayrı ayrı çekip topladık.\n",
    "    ortalama = toplam / len(notlar)  # Ortalamayı almak için toplamı listenin eleman sayısı olan 3 e bölüyoruz\n",
    "    sonuc = round(ortalama, 2) # Küsürattan kurtulalım\n",
    "    print(sonuc)"
   ]
  },
  {
   "cell_type": "code",
   "execution_count": null,
   "metadata": {},
   "outputs": [],
   "source": [
    "a = 0\n",
    "b = 10\n",
    "\n",
    "if (a > 10 and b > 10):\n",
    "    print(\"1. Çıkış\")\n",
    "\n",
    "elif (a > 100 or b > 100):\n",
    "    print(\"2. Çıkış\")\n",
    "\n",
    "elif (a < 10 and not b > 10):\n",
    "    print(\"3. Çıkış\")\n",
    "\n",
    "elif(a != 0 and b == 0):\n",
    "    print(\"4. Çıkış\")\n",
    "\n",
    "else:\n",
    "    print(\"Son Çıkış\")"
   ]
  },
  {
   "attachments": {},
   "cell_type": "markdown",
   "metadata": {},
   "source": [
    "Bu şekilde `and` ve `or` mantık ifadeleriyle daha kompleks yapılar da kurmak mümkün.\n",
    "<br> İç içe if-else yapıları da kullanmak isteyebiliriz:"
   ]
  },
  {
   "cell_type": "code",
   "execution_count": null,
   "metadata": {},
   "outputs": [],
   "source": [
    "a = 10\n",
    "b = -5\n",
    "\n",
    "if a > 10:\n",
    "    if b < 10:\n",
    "        print(\"1\")\n",
    "    else:\n",
    "        print(\"2\")\n",
    "else:\n",
    "    if b < 10:\n",
    "        print(\"3\")\n",
    "    else:\n",
    "        print(\"4\")"
   ]
  }
 ],
 "metadata": {
  "kernelspec": {
   "display_name": "Python 3",
   "language": "python",
   "name": "python3"
  },
  "language_info": {
   "codemirror_mode": {
    "name": "ipython",
    "version": 3
   },
   "file_extension": ".py",
   "mimetype": "text/x-python",
   "name": "python",
   "nbconvert_exporter": "python",
   "pygments_lexer": "ipython3",
   "version": "3.10.12"
  },
  "orig_nbformat": 4
 },
 "nbformat": 4,
 "nbformat_minor": 2
}
