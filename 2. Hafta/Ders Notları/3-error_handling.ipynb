{
 "cells": [
  {
   "attachments": {},
   "cell_type": "markdown",
   "metadata": {},
   "source": [
    "# <span style=\"color:#0152a1\"> İTÜ IEEE Python Eğitimi</span> \n",
    "## 3. Hafta\n"
   ]
  },
  {
   "attachments": {},
   "cell_type": "markdown",
   "metadata": {},
   "source": [
    "##### Try-Except\n",
    "\n",
    "Bazen kodumuzu ne kadar düzgün yazsak da, işleyiş esnasında kullanıcı, girdi vb sebeplerden dolayı hatalar çıkabilir. Hata aldığımızda, kod çalışmayı bırakarak bir hata mesajı döndürür. Biz bu hataları işleyerek kodumuzun çalışmayı bırakmasını engelleyebiliriz:\n",
    "- `try` : Kod bu kısma yazılır, hata yakalanıp yakalanmayacağı denenir.\n",
    "- `except`: Kodda bir hata yakalanırsa bu kısım çalışır.\n",
    "- `else`: Bir hata yakalanmazsa bu kısım çalışır.\n",
    "- `finally`: Kodda hata alınsa veya alınmasa da, en son burası çalışır.\n",
    "\n",
    "Try-except yapısını kullanmak için en az 1 adet `try` ve `except` gerekir. `finally` ve `else` zorunlu değildir. Aynı şekilde farklı hataları yakalamak için fazla sayıda `except` kullanılabilir. \n",
    "<br>Bölme işlemi yapan bir fonksiyon tanımlayalım:"
   ]
  },
  {
   "cell_type": "code",
   "execution_count": null,
   "metadata": {},
   "outputs": [],
   "source": [
    "bolunen = 10\n",
    "bolen = 2\n",
    "try:\n",
    "    sonuc = bolunen / bolen\n",
    "    print(sonuc)\n",
    "except ZeroDivisionError: # 0 a bölme hatası yakalanıyor\n",
    "    print(\"Bölen 0 olamaz!\")\n",
    "except: # Diğer hatalar yakalanıyor\n",
    "    print(\"Bir hata meydana geldi!\")\n",
    "else: # Eğer Hata çıkmazsa\n",
    "    print(\"Bölme İşlemi Başarılı!\")\n"
   ]
  },
  {
   "attachments": {},
   "cell_type": "markdown",
   "metadata": {},
   "source": [
    "Unutmamamak gerekn şey, error handling'i biz kendi kodumuzdaki hataları gidermek için kullanmayız. Kodumuz yanlış çalışıyorsa bunu düzeltmemiz gerekir. try-except yapısı bizim ön görmediğimiz veya engellemediğimiz hataları gidermekte kullanılır."
   ]
  },
  {
   "attachments": {},
   "cell_type": "markdown",
   "metadata": {},
   "source": [
    "__raise__\n",
    "\n",
    "`raise` anahtar kelimesi, kodun içerisinde kasıtlı olarak bir hata oluşturmak istediğimizde kullanılır. örneklere bakacak olursak."
   ]
  },
  {
   "cell_type": "code",
   "execution_count": null,
   "metadata": {},
   "outputs": [],
   "source": [
    "a = -10\n",
    "#a = 10\n",
    "if a < 0:\n",
    "    raise ValueError"
   ]
  }
 ],
 "metadata": {
  "kernelspec": {
   "display_name": "Python 3",
   "language": "python",
   "name": "python3"
  },
  "language_info": {
   "codemirror_mode": {
    "name": "ipython",
    "version": 3
   },
   "file_extension": ".py",
   "mimetype": "text/x-python",
   "name": "python",
   "nbconvert_exporter": "python",
   "pygments_lexer": "ipython3",
   "version": "3.10.12"
  },
  "orig_nbformat": 4
 },
 "nbformat": 4,
 "nbformat_minor": 2
}
