{
 "cells": [
  {
   "attachments": {},
   "cell_type": "markdown",
   "metadata": {},
   "source": [
    "# <span style=\"color:#0152a1\"> İTÜ IEEE Python Eğitimi</span> \n",
    "## 2. Hafta\n"
   ]
  },
  {
   "attachments": {},
   "cell_type": "markdown",
   "metadata": {},
   "source": [
    "##### Döngüler\n",
    "\n",
    "Döngüler, bir işlemi çok sefer gerçekleştirmemizi sağlayan yapılardır. Temelde 2 çeşit döngü bulunur\n",
    "\n",
    "**while Döngüsü**\n",
    "<br> while döngüsü, verdiğimiz koşul sağlandığı sürece tekrar eden döngülerdir."
   ]
  },
  {
   "cell_type": "code",
   "execution_count": 3,
   "metadata": {},
   "outputs": [
    {
     "name": "stdout",
     "output_type": "stream",
     "text": [
      "0\n",
      "1\n",
      "2\n",
      "3\n",
      "4\n"
     ]
    }
   ],
   "source": [
    "i = 0 # sayac olarak kullanacagımız değişken\n",
    "\n",
    "while i < 5: # 5 olana kadar devam edicek döngü\n",
    "    print(i)\n",
    "    i += 1 "
   ]
  },
  {
   "attachments": {},
   "cell_type": "markdown",
   "metadata": {},
   "source": [
    "Görüldüğü üzere, tek tek print kodu yazmak yerine döngüyle kısa bir şekilde sıraladık.\n",
    "<br> Bazen, döngüden hızlıca çıkmak isteyebiliriz. Bu durumda `break` kodunu kullanırız.\n",
    "<br> Örneğin, bir sayının 10 kez kuvvetini alan bir program yazalım. Değerler çok büyüdüğünde, işlemi sonlandırmak isteyelim."
   ]
  },
  {
   "cell_type": "code",
   "execution_count": null,
   "metadata": {},
   "outputs": [],
   "source": [
    "sayi = int(input(\"Sayı Girin:\"))\n",
    "i = 0\n",
    "while i < 10:\n",
    "    sonuc = sayi ** i # üst alma işlemi\n",
    "    if(sonuc > 500): # sayı 500 den büyükse, çıktı vermeden döngüden çıkıyor.\n",
    "        break\n",
    "    print(f\"{sayi}'nın {i}. kuvveti: {sonuc}\")\n",
    "    i += 1 # üstü bir arttırma"
   ]
  },
  {
   "attachments": {},
   "cell_type": "markdown",
   "metadata": {},
   "source": [
    "`break`'e benzer bir diğer operatörümüz `continue`, döngüyü sonlandırmak yerine o iterasyonu orada kesip, bir sonraki iterasyona başlar."
   ]
  },
  {
   "cell_type": "code",
   "execution_count": 4,
   "metadata": {},
   "outputs": [
    {
     "name": "stdout",
     "output_type": "stream",
     "text": [
      "1\n",
      "2\n",
      "4\n",
      "5\n",
      "6\n"
     ]
    }
   ],
   "source": [
    "i = 0\n",
    "while i < 6:\n",
    "  i += 1\n",
    "  if i == 3:\n",
    "    continue\n",
    "  print(i)"
   ]
  },
  {
   "attachments": {},
   "cell_type": "markdown",
   "metadata": {},
   "source": [
    "`continue` ifadesini kod gördüğü anda o iterasyona devam etmeyi bıraktığı için, 3 ifadesi çıktılar arasında yer almadı.\n",
    "\n",
    "<br> Bir diğer operatörümüz ise `pass` tir. break ve continue sadece döngüler için kullanılırken, pass bir çok yerde kullanılır. Kullanım amacı ise, herhangi bir ifadenin yer almasını istemediğimiz ancak boş bırakırsak hata ile karşılaşacağımız durumlardır."
   ]
  },
  {
   "cell_type": "code",
   "execution_count": null,
   "metadata": {},
   "outputs": [],
   "source": [
    "a = 0\n",
    "\n",
    "if (a != 5):\n",
    "    pass\n",
    "\n",
    "#veya\n",
    "\n",
    "while a < 10:\n",
    "    pass"
   ]
  },
  {
   "attachments": {},
   "cell_type": "markdown",
   "metadata": {},
   "source": [
    "Bunların dışında obje ve fonksiyon tanımlarında da karşılaşabiliriz. (yani genel olarak indentation olan ve boş bırakmak istediğimiz her yerde) `pass` ifadesini kullanmazsak, hata ile karşılaşırdık.\n",
    "\n",
    "**for Döngüsü**\n",
    "\n",
    "For döngüsü, bir dizi üzerinde iterasyon yapmakta kullandığımız ve işimizi kolaylaştıran bir döngü türüdür. Kullanımı:"
   ]
  },
  {
   "cell_type": "code",
   "execution_count": 5,
   "metadata": {},
   "outputs": [
    {
     "name": "stdout",
     "output_type": "stream",
     "text": [
      "apple\n",
      "banana\n",
      "cherry\n"
     ]
    }
   ],
   "source": [
    "fruits = [\"apple\", \"banana\", \"cherry\"]\n",
    "for x in fruits:\n",
    "  print(x)"
   ]
  },
  {
   "attachments": {},
   "cell_type": "markdown",
   "metadata": {},
   "source": [
    "Burada, sadece bu döngünün içinde geçerli olan `x` değişkeni tanımlarız. Bu x değişkeni, o anda iterasyonu yapılan elemanı saklar. \n",
    "\n",
    "<br>string türü değişkenler, her karakteri ayrı bir eleman olan birer liste gibi düşünülebilir. Örneğin, girilen string içerisindeki boşlukları silen bir kod yazalım:"
   ]
  },
  {
   "cell_type": "code",
   "execution_count": 6,
   "metadata": {},
   "outputs": [
    {
     "name": "stdout",
     "output_type": "stream",
     "text": [
      "MerhabaDünya\n"
     ]
    }
   ],
   "source": [
    "text = \"Merhaba Dünya\"\n",
    "new_text = \"\"\n",
    "\n",
    "for krktr in text:\n",
    "    if krktr == \" \":\n",
    "        continue\n",
    "    else:\n",
    "        new_text += krktr\n",
    "\n",
    "print(new_text)"
   ]
  },
  {
   "attachments": {},
   "cell_type": "markdown",
   "metadata": {},
   "source": [
    "Kullanıcıdan input aldıktan sonra, istediğimiz karakterleri tutmak için `new_text` adlı bir değişken tanımladık. Döngümüz, text'in içerisindeki her karakteri teker teker döndürüp boşluk olup olmadığına bakıyor. Eğer boşluksa, continue sayesinde bir ekleme yapmadan direkt sonraki iterasyona geçiyoruz, eğer boşluk değilse o karakteri `new_text` değişkenine ekler.\n",
    "\n",
    "<br> Döngülerde sık kullanabileceğimiz bir fonksiyon, range fonksiyonudur. bize belirli bir aralıktaki sayılardan oluşan liste verir. Kullanımı:"
   ]
  },
  {
   "cell_type": "code",
   "execution_count": 7,
   "metadata": {},
   "outputs": [
    {
     "name": "stdout",
     "output_type": "stream",
     "text": [
      "0\n",
      "1\n",
      "2\n",
      "3\n",
      "4\n",
      "5\n",
      "6\n",
      "7\n",
      "8\n",
      "9\n"
     ]
    }
   ],
   "source": [
    "rakamlar = range(10) # 0 dan 10'a kadar sayıları verir.\n",
    "\n",
    "for rakam in rakamlar:\n",
    "    print(rakam)"
   ]
  },
  {
   "cell_type": "code",
   "execution_count": 8,
   "metadata": {},
   "outputs": [
    {
     "name": "stdout",
     "output_type": "stream",
     "text": [
      "5\n",
      "7\n",
      "9\n",
      "11\n"
     ]
    }
   ],
   "source": [
    "for sayı in range(5, 12, 2): # 5'den 12 ye kadar olan sayıları 2 şer atlayarak verir\n",
    "    print(sayı)\n"
   ]
  },
  {
   "attachments": {},
   "cell_type": "markdown",
   "metadata": {},
   "source": [
    "Döngüleri iç içe kullanabiliriz. Örnek olarak 0, 1 ve 2 rakamlarının tüm 2'li kombinasyonlarını tuple'lar halinde listeleyen bir program yazalım."
   ]
  },
  {
   "cell_type": "code",
   "execution_count": 10,
   "metadata": {},
   "outputs": [
    {
     "name": "stdout",
     "output_type": "stream",
     "text": [
      "0\n",
      "0\n",
      "1\n",
      "2\n",
      "3\n",
      "1\n",
      "0\n",
      "1\n",
      "2\n",
      "3\n",
      "2\n",
      "0\n",
      "1\n",
      "2\n",
      "3\n",
      "3\n",
      "0\n",
      "1\n",
      "2\n",
      "3\n",
      "[(0, 0), (0, 1), (0, 2), (0, 3), (1, 0), (1, 1), (1, 2), (1, 3), (2, 0), (2, 1), (2, 2), (2, 3), (3, 0), (3, 1), (3, 2), (3, 3)]\n"
     ]
    }
   ],
   "source": [
    "sayılar = range(4)\n",
    "kombinasyonlar = [] # Kombinasyonları tutmak için boş bir liste oluşturalım.\n",
    "\n",
    "for i in sayılar:\n",
    "    print(\"i:\", i)\n",
    "    for j in sayılar:\n",
    "        print(\"j:\", j)\n",
    "        comb = (i, j)\n",
    "        kombinasyonlar.append(comb)\n",
    "\n",
    "print(kombinasyonlar)"
   ]
  },
  {
   "attachments": {},
   "cell_type": "markdown",
   "metadata": {},
   "source": [
    "İlk bakışta anlaması biraz zor gibi gözükse de, oldukça basit bir mantığa sahip. En başta, dıştaki `i` değişkeni 0 değerini alıyor, sonra içerdeki döngü 3 kez çalışarak j ye sırayla tüm değerleri alıp, 0 olan i değeriyle eşleştiriyor. Bundan sonra, i = 1 olarak, tekrar tüm değerlerle eşleşiyor."
   ]
  }
 ],
 "metadata": {
  "kernelspec": {
   "display_name": "Python 3",
   "language": "python",
   "name": "python3"
  },
  "language_info": {
   "codemirror_mode": {
    "name": "ipython",
    "version": 3
   },
   "file_extension": ".py",
   "mimetype": "text/x-python",
   "name": "python",
   "nbconvert_exporter": "python",
   "pygments_lexer": "ipython3",
   "version": "3.10.12"
  },
  "orig_nbformat": 4
 },
 "nbformat": 4,
 "nbformat_minor": 2
}
