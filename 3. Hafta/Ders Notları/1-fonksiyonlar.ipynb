{
 "cells": [
  {
   "attachments": {},
   "cell_type": "markdown",
   "metadata": {},
   "source": [
    "# <span style=\"color:#0152a1\"> İTÜ IEEE Python Eğitimi</span> \n",
    "## 3. Hafta\n"
   ]
  },
  {
   "attachments": {},
   "cell_type": "markdown",
   "metadata": {},
   "source": [
    "##### Fonksiyonlar \n",
    "\n",
    "Fonksiyonlar, bir işi yapmak için tanımlanmış kod bloklarıdır. Önceden tanımladığımız fonksiyonları kullanarak kod tekrarı yapmaktan kaçınırız ve işleri oldukça kolaylaştırır.\n",
    "\n",
    "<br> Bir Fonksiyonu şu şekilde tanımlarız ve çağırırız:"
   ]
  },
  {
   "cell_type": "code",
   "execution_count": null,
   "metadata": {},
   "outputs": [],
   "source": [
    "def ornek_fonksiyon():\n",
    "    print(\"Hello World\")\n",
    "\n",
    "ornek_fonksiyon()"
   ]
  },
  {
   "attachments": {},
   "cell_type": "markdown",
   "metadata": {},
   "source": [
    "Daha önceden de konuştuğumuz üzere, fonksiyonlar yaptıkları işlemler için bir takım parametreler alırlar. Bunun için parantezlerin içine alınacak parametrelerin isimlerini gireriz. Bu girdiğimiz parametreler, kullanıcıdan aldığımız verileri saklayan değişkenlerdir.\n",
    "\n",
    "`return`, fonksiyonu bitirip yanına aldığı değeri kullanıcıya döndüren bir anahtar kelimedir. Fonksiyonlarda sürekli kullanılır"
   ]
  },
  {
   "cell_type": "code",
   "execution_count": null,
   "metadata": {},
   "outputs": [],
   "source": [
    "def yazdir(txt):\n",
    "    print(txt)\n",
    "yazdir(\"selam\")"
   ]
  },
  {
   "cell_type": "code",
   "execution_count": null,
   "metadata": {},
   "outputs": [],
   "source": [
    "def carp(a, b):\n",
    "    sonuc = a * b\n",
    "    return sonuc\n",
    "\n",
    "print(carp(3, 5))\n",
    "x = carp (4, 8)\n",
    "print(x)"
   ]
  },
  {
   "cell_type": "code",
   "execution_count": 6,
   "metadata": {},
   "outputs": [
    {
     "name": "stdout",
     "output_type": "stream",
     "text": [
      "14.285714285714286\n",
      "2\n"
     ]
    }
   ],
   "source": [
    "def bol(bolunen, bolen):\n",
    "    bolum = bolunen / bolen\n",
    "    kalan = bolunen % bolen\n",
    "    return (bolum, kalan)\n",
    "\n",
    "bolum, kalan = bol(bolen = 7, bolunen = 100) # bu şekilde direkt parametreleri de girebiliriz, bu şekilde yaparsak sıraları da önemsiz olur.\n",
    "print(bolum)\n",
    "print(kalan)"
   ]
  },
  {
   "attachments": {},
   "cell_type": "markdown",
   "metadata": {},
   "source": [
    "Kaç tane parametre alacağımızı bilmediğimiz durumlar da olabilir. Bu durumda şu şekilde kullanımlar mevcuttur:"
   ]
  },
  {
   "cell_type": "code",
   "execution_count": 1,
   "metadata": {},
   "outputs": [
    {
     "name": "stdout",
     "output_type": "stream",
     "text": [
      "2. sınıf öğrencileri:  Umur Furkan Batu\n"
     ]
    }
   ],
   "source": [
    "def ogrenci_yaz(sinif, *args): # İlk koyduğumuz parametre zorunlu, sonrası ise keyfi oluyor.\n",
    "    txt = \"\"\n",
    "    for ogr in args:\n",
    "        txt += \" \" + ogr\n",
    "    print(f\"{sinif}. sınıf öğrencileri: {txt}\")\n",
    "\n",
    "ogrenci_yaz(2, \"Umur\", \"Furkan\", \"Batu\")"
   ]
  },
  {
   "cell_type": "code",
   "execution_count": 2,
   "metadata": {},
   "outputs": [
    {
     "name": "stdout",
     "output_type": "stream",
     "text": [
      "{'isim': 'Umur', 'sınıf': 3, 'ortalama': 3.0}\n"
     ]
    }
   ],
   "source": [
    "def ogrenci_bilgileri(**kwargs):\n",
    "    print(kwargs)\n",
    "\n",
    "ogrenci_bilgileri(isim = \"Umur\", sınıf = 3, ortalama = 3.0)\n",
    "\n"
   ]
  },
  {
   "cell_type": "code",
   "execution_count": 3,
   "metadata": {},
   "outputs": [
    {
     "name": "stdout",
     "output_type": "stream",
     "text": [
      "99\n",
      "Selam\n",
      "(1, 2, 3)\n",
      "{'key1': 'value1', 'key2': 'value2'}\n"
     ]
    }
   ],
   "source": [
    "def func(a, b, *args, **kwargs):\n",
    "    print(a)\n",
    "    print(b)\n",
    "    print(args)\n",
    "    print(kwargs)\n",
    "\n",
    "func(99, \"Selam\", 1, 2, 3, key1 = \"value1\", key2 = \"value2\")"
   ]
  },
  {
   "attachments": {},
   "cell_type": "markdown",
   "metadata": {},
   "source": [
    "Bir parametrenin değerini önceden de atayabiliriz. Bu durumda eğer kullanıcı bu parametreye değer vermezse, default değer kullanılır."
   ]
  },
  {
   "cell_type": "code",
   "execution_count": 4,
   "metadata": {},
   "outputs": [
    {
     "name": "stdout",
     "output_type": "stream",
     "text": [
      "Sayı: 0\n",
      "Sayı: 5\n"
     ]
    }
   ],
   "source": [
    "def func(number = 0):\n",
    "    print(f\"Sayı: {number}\")\n",
    "\n",
    "func()\n",
    "func(5)"
   ]
  },
  {
   "attachments": {},
   "cell_type": "markdown",
   "metadata": {},
   "source": [
    "__Recursion__\n",
    "\n",
    "Bir fonksiyonun, kendi içerisinde çağrılarak tekrar tekrar çalıştırılmasıdır. Matematiksel hesaplarda, yapay zeka uygulamalarında çok kullanılır. Yazılırken dikkatli olunması gerekir. Doğru yazılmadığı zaman gereğinden çok, kimi zaman sonsuza kadar, çalışarak bilgisayar hafızasında büyük yer kaplar."
   ]
  },
  {
   "cell_type": "code",
   "execution_count": 5,
   "metadata": {},
   "outputs": [
    {
     "name": "stdout",
     "output_type": "stream",
     "text": [
      "\n",
      "\n",
      "Recursion Example Results\n",
      "1\n",
      "3\n",
      "6\n",
      "10\n",
      "15\n",
      "21\n"
     ]
    },
    {
     "data": {
      "text/plain": [
       "21"
      ]
     },
     "execution_count": 5,
     "metadata": {},
     "output_type": "execute_result"
    }
   ],
   "source": [
    "def toplam_hesapla(k):\n",
    "  if(k > 0):\n",
    "    result = k + toplam_hesapla(k - 1)\n",
    "    print(result)\n",
    "  else:\n",
    "    result = 0\n",
    "  return result\n",
    "\n",
    "toplam_hesapla(6)"
   ]
  },
  {
   "cell_type": "markdown",
   "metadata": {},
   "source": [
    "## Main Fonksiyou\n",
    "\n",
    "Programın çalıştığı ana fonksiyon olarak main fonksiyonu kullanılır. Bu fonksiyonun ismi değiştirilemez. Programda yazılan diğer fonksiyonları genellikle main fonksiyonu içerisinde çağırırız. Yazılan kodun anlaşılabilir ve modüler olmasını sağlar. "
   ]
  },
  {
   "cell_type": "code",
   "execution_count": 2,
   "metadata": {},
   "outputs": [
    {
     "name": "stdout",
     "output_type": "stream",
     "text": [
      "Fonksiyon 1 çalıştı\n",
      "Fonksiyon 2 çalıştı\n"
     ]
    }
   ],
   "source": [
    "def fonc1():\n",
    "    print(\"Fonksiyon 1 çalıştı\")\n",
    "def fonc2():\n",
    "    print(\"Fonksiyon 2 çalıştı\")\n",
    "def main():\n",
    "    fonc1()\n",
    "    fonc2()\n",
    "\n",
    "if __name__ == \"__main__\":\n",
    "    main()\n"
   ]
  },
  {
   "cell_type": "markdown",
   "metadata": {},
   "source": [
    "### ```__name__``` ve ```__main__``` Kullanımı\n",
    "Python'da bir betik (script) doğrudan çalıştırıldığında veya başka bir modül tarafından ithal edildiğinde farklı davranışlar sergilemesini sağlamak için ```__name__``` ve ```__main__``` kullanılır. Bu, kodun modüler ve yeniden kullanılabilir olmasını sağlar.\n",
    "\n",
    "Temel Kavramlar\n",
    "```__name__``` Değişkeni: Her Python modülünün (module) kendine ait bir ```__name__``` değişkeni vardır. Eğer modül doğrudan çalıştırılıyorsa, ```__name__``` değeri ```\"__main__\"``` olur. Eğer modül başka bir modül tarafından ithal ediliyorsa, ```__name__``` modülün adı olarak ayarlanır.\n",
    "```if __name__ == \"__main__\":``` Bloğu: Bu koşul, betiğin doğrudan çalıştırılıp çalıştırılmadığını kontrol eder. Doğrudan çalıştırıldığında, bu bloğun içindeki kod çalıştırılır. İthal edildiğinde ise bu blok atlanır.\n",
    "\n",
    "Buna örnek olarak ```one.py``` ve ```two.py``` dosyalarını inceleyebiliriz. Bu yapı, Python modüllerinin hem bağımsız betik olarak çalıştırılabilmesini hem de başka modüller tarafından güvenle ithal edilmesini sağlar. Böylece, kodun yeniden kullanabilirliği ve modülerliği artırılmış olur.\n"
   ]
  }
 ],
 "metadata": {
  "kernelspec": {
   "display_name": "Python 3",
   "language": "python",
   "name": "python3"
  },
  "language_info": {
   "codemirror_mode": {
    "name": "ipython",
    "version": 3
   },
   "file_extension": ".py",
   "mimetype": "text/x-python",
   "name": "python",
   "nbconvert_exporter": "python",
   "pygments_lexer": "ipython3",
   "version": "3.10.12"
  },
  "orig_nbformat": 4
 },
 "nbformat": 4,
 "nbformat_minor": 2
}
