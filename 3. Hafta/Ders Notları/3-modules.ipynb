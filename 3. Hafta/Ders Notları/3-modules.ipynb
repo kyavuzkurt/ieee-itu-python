{
 "cells": [
  {
   "attachments": {},
   "cell_type": "markdown",
   "metadata": {},
   "source": [
    "# <span style=\"color:#0152a1\"> İTÜ IEEE Python Eğitimi</span> \n",
    "## 5. Hafta\n"
   ]
  },
  {
   "attachments": {},
   "cell_type": "markdown",
   "metadata": {},
   "source": [
    "##### Bult-in moduller\n",
    "\n",
    "Python içerisinde, harici bir kurulum yapmamıza gerek kalmadan kullanabileceğimiz bir çok modül bulunmaktadır. Bunlara bir göz atalım:\n",
    "\n",
    "**Math**\n",
    "\n",
    "Matematiksel işlemleri kolaylıkla yapmamızı sağlayan modüldür. Birkaç örnek bakalım"
   ]
  },
  {
   "cell_type": "code",
   "execution_count": 2,
   "metadata": {},
   "outputs": [
    {
     "name": "stdout",
     "output_type": "stream",
     "text": [
      "4.43846820423443\n",
      "20\n",
      "19\n",
      "3.141592653589793\n"
     ]
    }
   ],
   "source": [
    "import math\n",
    "x = 19.7\n",
    "\n",
    "print(math.sqrt(x))\n",
    "print(math.ceil(x))\n",
    "print(math.floor(x))\n",
    "print(math.pi)\n",
    "print(math.acos(x))\n",
    "print(math.exp(x))"
   ]
  },
  {
   "attachments": {},
   "cell_type": "markdown",
   "metadata": {},
   "source": [
    "`math` kütüphanesi içerisinde onlarca farklı fonksiyon bulunur. Bunlara daha detaylı bilgi için [w3schools sayfasına](https://www.w3schools.com/python/module_math.asp)  veya direkt [kendi dokumanlarına](https://docs.python.org/3/library/math.html) bakabilirsiniz.<s> İnternetten kendiniz de araştırıp bir çok kullanım görebilirsiniz. </s>\n",
    "\n",
    "**Datetime**\n",
    "\n",
    "Tarih ve saat, python içerisinde kendiliğinden bulunan veri türleri değildir. Bunlara erişmek için `datetime` modülünü kullanırız."
   ]
  },
  {
   "cell_type": "code",
   "execution_count": 6,
   "metadata": {},
   "outputs": [
    {
     "name": "stdout",
     "output_type": "stream",
     "text": [
      "2023-12-15 16:35:20.265071\n",
      "2023\n",
      "20\n"
     ]
    }
   ],
   "source": [
    "from datetime import datetime\n",
    "\n",
    "now = datetime.now()\n",
    "print(now)\n",
    "print(now.year)\n",
    "print(now.second)\n",
    "\n",
    "date = datetime(2023, 10, 29) # Kendimiz bir datetime oluşturduk"
   ]
  },
  {
   "attachments": {},
   "cell_type": "markdown",
   "metadata": {},
   "source": [
    "`datetime` kütüphanesi içerisinde onlarca farklı fonksiyon bulunur. Bunlara daha detaylı bilgi için [w3schools sayfasına](https://www.w3schools.com/python/python_datetime.asp)  veya direkt [kendi dokumanlarına](https://docs.python.org/3/library/datetime.html) bakabilirsiniz.<s> İnternetten kendiniz de araştırıp bir çok kullanım görebilirsiniz. </s>\n",
    "\n",
    "**Sys**\n",
    "\n",
    "Python'u çalıştırdığımız ekosistemde işlemler yapmak için kullandığımız moduldür."
   ]
  },
  {
   "cell_type": "code",
   "execution_count": 7,
   "metadata": {},
   "outputs": [
    {
     "name": "stdout",
     "output_type": "stream",
     "text": [
      "3.12.0 (tags/v3.12.0:0fb18b0, Oct  2 2023, 13:03:39) [MSC v.1935 64 bit (AMD64)]\n"
     ]
    }
   ],
   "source": [
    "import sys\n",
    "\n",
    "print(sys.version)\n",
    "print(sys.path)\n",
    "print(sys.modules)"
   ]
  },
  {
   "attachments": {},
   "cell_type": "markdown",
   "metadata": {},
   "source": [
    "`sys` kütüphanesi içerisinde onlarca farklı fonksiyon bulunur. Bunlara daha detaylı bilgi için [GfG sayfasına](https://www.geeksforgeeks.org/python-sys-module/)  veya direkt [kendi dokumanlarına](https://docs.python.org/3/library/sys.html) bakabilirsiniz.<s> İnternetten kendiniz de araştırıp bir çok kullanım görebilirsiniz. </s>\n",
    "\n",
    "**Os**\n",
    "\n",
    "Python'u çalıştırdığımız ekosisteme interaksiyona girmekte kullandığımız bir modüldür."
   ]
  },
  {
   "cell_type": "code",
   "execution_count": null,
   "metadata": {},
   "outputs": [],
   "source": [
    "import os\n",
    "\n",
    "print(os.getcwd()) \n",
    "os.remove()\n",
    "os.mkdir()"
   ]
  },
  {
   "attachments": {},
   "cell_type": "markdown",
   "metadata": {},
   "source": [
    "`Os` kütüphanesi içerisinde onlarca farklı fonksiyon bulunur. Bunlara daha detaylı bilgi için [w3schools sayfasına](https://www.w3schools.com/python/module_os.asp)  veya direkt [kendi dokumanlarına](https://docs.python.org/3/library/os.html) bakabilirsiniz.<s> İnternetten kendiniz de araştırıp bir çok kullanım görebilirsiniz. </s>\n",
    "\n",
    "**Random**\n",
    "\n",
    "Pythonda rastgeleliklerle uğraşmakta kullanacağımız modüldür."
   ]
  },
  {
   "cell_type": "code",
   "execution_count": null,
   "metadata": {},
   "outputs": [],
   "source": [
    "import random\n",
    "\n",
    "array = [\"ITU\", \"IEEE\", \"1773\"]\n",
    "\n",
    "selection = random.choice(array)\n",
    "print(selection)\n",
    "\n",
    "print(random.randint(1,99))"
   ]
  },
  {
   "attachments": {},
   "cell_type": "markdown",
   "metadata": {},
   "source": [
    "`Random` kütüphanesi içerisinde onlarca farklı fonksiyon bulunur. Bunlara daha detaylı bilgi için [w3schools sayfasına](https://www.w3schools.com/python/module_random.asp)  veya direkt [kendi dokumanlarına](https://docs.python.org/3/library/random.html) bakabilirsiniz.<s> İnternetten kendiniz de araştırıp bir çok kullanım görebilirsiniz. </s>\n",
    "\n",
    "Python içerisinde bunların dışında bir çok farklı kütüphane daha bulunur. En çok karşılaşabilecekleriniz:\n",
    "- JSON : JSON Türü objelerle uğraşırken kullanılır.\n",
    "- Re :  Regular expressionlarla uğraşırken kullanılır.\n",
    "- CSV: Comma Seperated Value'larla uğraşırken kullanılır.\n",
    "\n",
    "\n",
    "Bu kütüphaneleri, veya kullanımları ezbere bilmeniz gerekmiyor. Bir projeyle uğraşırken sorununuza çözüm ararken internette bunların kullanımlarını görür, ve kullandıkça siz de alışırsınız.\n",
    "\n",
    "##### External Modules\n",
    "\n",
    "Pythonla yazılımın asıl güzel yanı, topluluk tarafından geliştirilmiş, farklı işlemler için yazılmış milyonlarca farklı kütüphaneye sahip olmasıdır. Bunlara nasıl erişeceğimize bakalım:\n",
    "\n",
    "**PIP nedir?**\n",
    "\n",
    "PIP (Preferred Installer Program) Python da, paket yönetimi için kullanılır (Paket: Bir modül için gereken tüm dosyalar bütünü). PIP kullanarak, yıllar içerisinde geliştirilmiş tüm paketlere, online olarak erişebilir ve projelerimizde kullanabiliriz. \n",
    "\n",
    "Örneğin, NumPy kütüphanesini ele alalım. Numpy, dizi ve vektörlerle uğraşırken kullandığımız, çok önemli bir kütüphanedir. Data Science, Machine Learning gibi konuların vazgeçilmezidir. Bu paketi indirebilmek için konsola `pip install numpy` yazmamız yeterli olacaktır.\n",
    "\n",
    "PIP kullanarak paketleri yükleyebilir, silebilir, güncelleyebilir, versiyonlarını değiştirebiliriz. Ayrıca GitHub üzerinden farklı projeleri de indirebiliriz."
   ]
  }
 ],
 "metadata": {
  "kernelspec": {
   "display_name": "Python 3",
   "language": "python",
   "name": "python3"
  },
  "language_info": {
   "codemirror_mode": {
    "name": "ipython",
    "version": 3
   },
   "file_extension": ".py",
   "mimetype": "text/x-python",
   "name": "python",
   "nbconvert_exporter": "python",
   "pygments_lexer": "ipython3",
   "version": "3.12.0"
  },
  "orig_nbformat": 4
 },
 "nbformat": 4,
 "nbformat_minor": 2
}
