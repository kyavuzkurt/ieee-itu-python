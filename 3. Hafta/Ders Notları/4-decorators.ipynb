{
 "cells": [
  {
   "attachments": {},
   "cell_type": "markdown",
   "metadata": {},
   "source": [
    "# <span style=\"color:#0152a1\"> İTÜ IEEE Python Eğitimi</span> \n",
    "## 5. Hafta\n"
   ]
  },
  {
   "attachments": {},
   "cell_type": "markdown",
   "metadata": {},
   "source": [
    "##### Birinci Sınıf Fonksiyonlar\n",
    "\n",
    "Geçtiğimiz haftalarda, Python'da fonksiyonların birer obje olduğunu, dolayısıyla aynı birer değişken gibi davrandığından bahsetmiştik. Bu duruma birinci sınıf fonksiyonlar adı verilir. Şimdi bu konuya biraz daha detaylı bakalım"
   ]
  },
  {
   "attachments": {},
   "cell_type": "markdown",
   "metadata": {},
   "source": [
    "1) **Fonksiyonlar birer objedir.** Bir fonksiyon başka bir değişkene atanabilir. Bu atama fonksiyonu çağırmaz, onun yerine aynı fınksiyonu referans veren 2 değişkene sahip oluruz."
   ]
  },
  {
   "cell_type": "code",
   "execution_count": 1,
   "metadata": {},
   "outputs": [
    {
     "name": "stdout",
     "output_type": "stream",
     "text": [
      "HEY!\n"
     ]
    }
   ],
   "source": [
    "def yazdir(txt):\n",
    "    print(txt)\n",
    "\n",
    "yaz = yazdir # Parantez koyup fonksiyonu çalıştırmıyoruz.\n",
    "\n",
    "yaz(\"HEY!\")"
   ]
  },
  {
   "attachments": {},
   "cell_type": "markdown",
   "metadata": {},
   "source": [
    "2) **Fonksiyonlar, diğer fonksiyonlara parametre olarak verilebilir.** Fonksiyonlar birer obje oldukları için bir diğer fonksiyona argüman olarak kullanılabilir."
   ]
  },
  {
   "cell_type": "code",
   "execution_count": 2,
   "metadata": {},
   "outputs": [
    {
     "name": "stdout",
     "output_type": "stream",
     "text": [
      "Büyütülüyor...\n",
      "IEEE\n"
     ]
    }
   ],
   "source": [
    "def buyut(txt):\n",
    "    print(\"Büyütülüyor...\")\n",
    "    return txt.upper()\n",
    "\n",
    "def yazdir(txt, func):\n",
    "    buyuk_txt = func(txt)\n",
    "    print(buyuk_txt)\n",
    "\n",
    "yazdir(\"ieee\", buyut)"
   ]
  },
  {
   "attachments": {},
   "cell_type": "markdown",
   "metadata": {},
   "source": [
    "3) **Fonksiyonlar, diğer fonksiyonları return'leyebilir.** Fonksiyonlar birer obje oldukları için return'Lenebilirler."
   ]
  },
  {
   "cell_type": "code",
   "execution_count": 4,
   "metadata": {},
   "outputs": [
    {
     "name": "stdout",
     "output_type": "stream",
     "text": [
      "5\n",
      "50\n"
     ]
    }
   ],
   "source": [
    "def carp_yaratici(x):\n",
    "    def carp(y):\n",
    "        return x * y\n",
    "    return carp\n",
    "\n",
    "carp_10 = carp_yaratici(10)\n",
    "print(carp_10(5))"
   ]
  },
  {
   "attachments": {},
   "cell_type": "markdown",
   "metadata": {},
   "source": [
    "##### Dekoratörler (Decorators)\n",
    "\n",
    "Dekoratörler, Pythonda bir sınıfın veya fonksiyonun işleyişini düzenleyen fonksiyonlardır. Yukarıda bahsettiğimiz prensiplere göre çalışırlar. Biraz örnekler üzerinden inceleyelim:"
   ]
  },
  {
   "cell_type": "code",
   "execution_count": 1,
   "metadata": {},
   "outputs": [
    {
     "name": "stdout",
     "output_type": "stream",
     "text": [
      "Fonksiyon çalışmadan öncesi.\n",
      "Hello World!\n",
      "Fonksiyon çalıştıktan sonrası.\n"
     ]
    }
   ],
   "source": [
    "def example_decorator(func):\n",
    "    def wrapper():\n",
    "        print(\"Fonksiyon çalışmadan öncesi.\")\n",
    "        func()\n",
    "        print(\"Fonksiyon çalıştıktan sonrası.\")        \n",
    "    return wrapper\n",
    "\n",
    "def example_function():\n",
    "    print(\"Hello World!\")\n",
    "\n",
    "ara_fonksiyon = example_decorator(example_function)\n",
    "ara_fonksiyon()"
   ]
  },
  {
   "cell_type": "code",
   "execution_count": 3,
   "metadata": {},
   "outputs": [
    {
     "name": "stdout",
     "output_type": "stream",
     "text": [
      "Fonksiyon çalışmadan öncesi.\n",
      "Hello!\n",
      "Fonksiyon çalıştıktan sonrası.\n"
     ]
    }
   ],
   "source": [
    "# Bunu dekoratörlerle yapmak isteseydik:\n",
    "\n",
    "@example_decorator\n",
    "def func():\n",
    "    print(\"Hello!\")\n",
    "\n",
    "func()"
   ]
  },
  {
   "attachments": {},
   "cell_type": "markdown",
   "metadata": {},
   "source": [
    "Bu kullanım sayesinde, tekrar uğraşmak yerine otomatik olarak decorator fonksiyona otomatik olarak parametre verildi fonksiyonumuz.\n",
    "\n",
    "Dekoratörler zincir şeklinde çoklu hallerde de kullanılabilir:"
   ]
  },
  {
   "cell_type": "code",
   "execution_count": 4,
   "metadata": {},
   "outputs": [
    {
     "name": "stdout",
     "output_type": "stream",
     "text": [
      "400\n",
      "200\n"
     ]
    }
   ],
   "source": [
    "def decor1(func): \n",
    "    def inner(): \n",
    "        x = func() \n",
    "        return x * x \n",
    "    return inner \n",
    " \n",
    "def decor(func): \n",
    "    def inner(): \n",
    "        x = func() \n",
    "        return 2 * x \n",
    "    return inner \n",
    " \n",
    "@decor1\n",
    "@decor\n",
    "def num(): \n",
    "    return 10\n",
    " \n",
    "@decor\n",
    "@decor1\n",
    "def num2():\n",
    "    return 10\n",
    "   \n",
    "print(num()) \n",
    "print(num2())"
   ]
  }
 ],
 "metadata": {
  "kernelspec": {
   "display_name": "Python 3",
   "language": "python",
   "name": "python3"
  },
  "language_info": {
   "codemirror_mode": {
    "name": "ipython",
    "version": 3
   },
   "file_extension": ".py",
   "mimetype": "text/x-python",
   "name": "python",
   "nbconvert_exporter": "python",
   "pygments_lexer": "ipython3",
   "version": "3.12.0"
  }
 },
 "nbformat": 4,
 "nbformat_minor": 2
}
