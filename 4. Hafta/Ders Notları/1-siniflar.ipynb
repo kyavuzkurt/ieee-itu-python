{
 "cells": [
  {
   "cell_type": "markdown",
   "metadata": {},
   "source": [
    "# <span style=\"color:#0152a1\"> İTÜ IEEE Python Eğitimi</span> \n",
    "## 4. Hafta\n"
   ]
  },
  {
   "cell_type": "markdown",
   "metadata": {},
   "source": [
    "##### Sınıflar/Objeler\n",
    "\n",
    "Python, bir nesne tabanlı programlama dilidir (Object Oriented Programming - OOP). Bu demek oluyor ki, aslında pythonda kullandığımız nerdeyse tüm yapılar birer nesnedir: String, int, list, dict, fonksiyon vb bir çok şey.\n",
    "\n",
    "Sınıflar (class), objeler yaratırken kullandığımız birer taslak gibidir.\n",
    "\n",
    "Geçtiğimiz haftalarda `type()` fonksiyonu kullandığımızda aldığımız çıktıya tekrar göz atalım:"
   ]
  },
  {
   "cell_type": "code",
   "execution_count": 1,
   "metadata": {},
   "outputs": [
    {
     "name": "stdout",
     "output_type": "stream",
     "text": [
      "<class 'int'>\n",
      "<class 'str'>\n",
      "<class 'list'>\n",
      "<class 'function'>\n"
     ]
    }
   ],
   "source": [
    "a = 5\n",
    "b = \"IEEE\"\n",
    "c = []\n",
    "def d():\n",
    "    pass\n",
    "\n",
    "print(type(a))\n",
    "print(type(b))\n",
    "print(type(c))\n",
    "print(type(d))"
   ]
  },
  {
   "cell_type": "markdown",
   "metadata": {},
   "source": [
    "Göreceğiniz üzere, a değişkeni aslında integer sınıfına ait bir örnek. Burada class (sınıf) ve object (nesne) kavramları önemlidir. Class, bir taslaktır, obje ise o class kullanılarak üretilmiş her instance'dan(örnekten) biridir. Integer, function, string, list birer class, yukarıda yarattığımız a, b, c, d birer nesnedir.\n",
    "\n",
    "Kafanız karıştıysa, bu hafta tamamen sınıf ve nesnelerle ilgileniyor olacağız. Bu esnada iyice anlayacaksınız.\n",
    "\n",
    "Şimdi, bir sınıfın nasıl tanımlandığına bakalım. Bunun için `class` keyword'ü kullanılır:"
   ]
  },
  {
   "cell_type": "code",
   "execution_count": 2,
   "metadata": {},
   "outputs": [],
   "source": [
    "class MyClass:\n",
    "    x = 5"
   ]
  },
  {
   "cell_type": "markdown",
   "metadata": {},
   "source": [
    "Şu an `MyClass` adında bir sınıf oluşturduk. Bu sınıftan oluşturduğumuz objelerin taslağı bu olacak.\n",
    "\n",
    "Bu sınıftan obje oluşturmak içinse:\n"
   ]
  },
  {
   "cell_type": "code",
   "execution_count": 3,
   "metadata": {},
   "outputs": [
    {
     "name": "stdout",
     "output_type": "stream",
     "text": [
      "5\n",
      "<class '__main__.MyClass'>\n"
     ]
    }
   ],
   "source": [
    "nesne1 = MyClass()\n",
    "nesne2 = MyClass()\n",
    "print(nesne1.x)\n",
    "print(type(nesne2))"
   ]
  },
  {
   "cell_type": "markdown",
   "metadata": {},
   "source": [
    "Taslak derken ne demek istenildiği daha net anlaşılmıştır. `nesne1` ve `nesne2`, artık `MyClass` classına ait objeler. `x` ise bu objelere ait birer özellik (attribute). Bir objeye ait özelliklere ve methodlara erişmek için `obje.özellik` formatını kullanırız. \n",
    "\n",
    "Gerçek hayatta, birbirine tıpatıp benzeyen objelere değil de, aynı taslaktan çıkan farklı objelere ihtiyaç duyarız. Bunu nasıl yapabileceğimize bir örnek üzerinden bakalım"
   ]
  },
  {
   "cell_type": "code",
   "execution_count": null,
   "metadata": {},
   "outputs": [],
   "source": [
    "class Robot:\n",
    "    def __init__(self, motor_tipi, sensor_sayisi, uretim_yili):\n",
    "        self.motor_tipi = motor_tipi\n",
    "        self.sensor_sayisi = sensor_sayisi\n",
    "        self.uretim_yili = uretim_yili\n",
    "    \n",
    "    def guc_tuketimi_hesapla(self, calisma_suresi):\n",
    "        # Motor tipine göre güç tüketimi (W/saat)\n",
    "        guc_degerleri = {\n",
    "            'DC': 100,\n",
    "            'Step': 150,\n",
    "            'Servo': 200\n",
    "        }\n",
    "        return guc_degerleri.get(self.motor_tipi, 120) * calisma_suresi\n",
    "\n",
    "    def __str__(self):\n",
    "        return f\"{self.uretim_yili} üretim {self.motor_tipi} motorlu robot\"\n",
    "\n",
    "# Örnek kullanım\n",
    "robot_kolu = Robot(motor_tipi='Servo', sensor_sayisi=6, uretim_yili=2023)\n",
    "robot_bacagi = Robot(motor_tipi='Step', sensor_sayisi=4, uretim_yili=2024)\n",
    "print(robot_kolu.guc_tuketimi_hesapla(2.5))  # 200 * 2.5 = 500 W\n",
    "print(robot_bacagi.guc_tuketimi_hesapla(2.5))  # 200 * 2.5 = 500 W\n",
    "print(robot_kolu)\n"
   ]
  },
  {
   "cell_type": "markdown",
   "metadata": {},
   "source": [
    "Yukarıdaki örnekte yeni bir çok şey var. Hepsine tek tek bakalım:\n",
    "\n",
    "Geçen hafta gördüğümüz fonksiyonlar, sınıfların içinde de olabilir. Bir objeye ait olan fonksiyonlara method diyoruz. Bir fonksiyonun içerisinde istediğimiz gibi methodlar tanımlayabiliriz. Ancak python tarafından bazı özel methodlar bulunur, isimlerinin baş ve sonlarındakş `__` işaretlerinden ayırt edebiliriz. Bu methodlara \"Dunder Methods\" veya \"Magic Methods adı verilir. Bazı sık karşılaştığımız  dunder methodlar: (Daha fazla Dunder Method'a [buradan](https://nitesh-yadav.medium.com/dunder-methods-in-python-really-crazy-functions-3455ecb6472d#:~:text=Dunder%20methods%2C%20also%20known%20as,or%20functionalities%20in%20Python%20classes.) ulaşabilirsiniz)\n",
    "- `__init__(self, ..)`: Bu method objenin inşasını sağlar. Obje ilk yaratılırken çağrılır. Genel olarak objeye attribute eklenmesi ve gerekli setup'ların yapılmasında kullanılır. Farklı parametreler alabilir. Yukarıda `benim_arac = Araba(\"BMW\", \"M2\", \"2022\")` yazdığımızda aslında init fonksiyonunu çağırmış oluyoruz, bu parametreleri de o alıyor\n",
    "- `__str__(self)` : Bu method objeye ait string bir değer döndürmeyi sağlar. Genel olarak `str()` fonksiyonu içine obje konduğunda veya obje printlenmeye çalıştığında çağrılır.\n",
    "- `__len__(self)` : Bu method objenin uzunluğunu döndürür. Genel olarak `len()` fonksiyonu içine obje konulduğunda çağrılır.\n",
    "\n",
    "Yani, örneğin aslında geçmişte kullandığımız her değişken tipi birer fonksiyon olduğuna göre, bu temel methodlar onlar için de tanımlıdır.\n",
    "\n",
    "Methodlar da aynı fonksiyonlar gibi parametreler alırlar, ancak ilk parametreleri özel bir değişken olan `self` parametresidir. `self`, o sınıfa ait o an erişilen objeyi temsil eder. Bu parametre, python tarafından otomatik olarak o anki nesne olacak şekilde verilir. Sınıfın içerisinde methodu tanımlarken ilk parametre olarak yazarız, ve daha sonrasında bu argümanı methodun içinde kullanırız. Ancak sınıfın dışında bu fonksiyonu çağırırken tekrar self için bir değer yollamayız, yukarıda söylediğimiz üzere otomatik olarak verilir.\n",
    "\n",
    "Birkaç örnek daha verelim:"
   ]
  },
  {
   "cell_type": "code",
   "execution_count": null,
   "metadata": {},
   "outputs": [
    {
     "ename": "TypeError",
     "evalue": "Direnc.__init__() missing 1 required positional argument: 'guc'",
     "output_type": "error",
     "traceback": [
      "\u001b[0;31m---------------------------------------------------------------------------\u001b[0m",
      "\u001b[0;31mTypeError\u001b[0m                                 Traceback (most recent call last)",
      "Cell \u001b[0;32mIn[6], line 15\u001b[0m\n\u001b[1;32m     12\u001b[0m         \u001b[38;5;28;01mreturn\u001b[39;00m (\u001b[38;5;28mself\u001b[39m\u001b[38;5;241m.\u001b[39mguc \u001b[38;5;241m*\u001b[39m \u001b[38;5;28mself\u001b[39m\u001b[38;5;241m.\u001b[39mdirenc_degeri)\u001b[38;5;241m*\u001b[39m\u001b[38;5;241m*\u001b[39m\u001b[38;5;241m0.5\u001b[39m  \u001b[38;5;66;03m# V = √(P*R)\u001b[39;00m\n\u001b[1;32m     14\u001b[0m \u001b[38;5;66;03m# Örnek kullanım\u001b[39;00m\n\u001b[0;32m---> 15\u001b[0m d1 \u001b[38;5;241m=\u001b[39m \u001b[43mDirenc\u001b[49m\u001b[43m(\u001b[49m\u001b[38;5;241;43m5\u001b[39;49m\u001b[43m,\u001b[49m\u001b[43m \u001b[49m\u001b[38;5;241;43m0.25\u001b[39;49m\u001b[43m)\u001b[49m\n\u001b[1;32m     16\u001b[0m \u001b[38;5;28mprint\u001b[39m(\u001b[38;5;124mf\u001b[39m\u001b[38;5;124m\"\u001b[39m\u001b[38;5;124m10V için akım: \u001b[39m\u001b[38;5;132;01m{\u001b[39;00md1\u001b[38;5;241m.\u001b[39makim_hesapla(\u001b[38;5;241m10\u001b[39m)\u001b[38;5;132;01m:\u001b[39;00m\u001b[38;5;124m.3f\u001b[39m\u001b[38;5;132;01m}\u001b[39;00m\u001b[38;5;124m A\u001b[39m\u001b[38;5;124m\"\u001b[39m)  \u001b[38;5;66;03m# 0.010 A\u001b[39;00m\n\u001b[1;32m     17\u001b[0m \u001b[38;5;28mprint\u001b[39m(\u001b[38;5;124mf\u001b[39m\u001b[38;5;124m\"\u001b[39m\u001b[38;5;124mMaksimum voltaj: \u001b[39m\u001b[38;5;132;01m{\u001b[39;00md1\u001b[38;5;241m.\u001b[39mmax_voltaj()\u001b[38;5;132;01m:\u001b[39;00m\u001b[38;5;124m.2f\u001b[39m\u001b[38;5;132;01m}\u001b[39;00m\u001b[38;5;124m V\u001b[39m\u001b[38;5;124m\"\u001b[39m)     \u001b[38;5;66;03m# 15.81 V\u001b[39;00m\n",
      "\u001b[0;31mTypeError\u001b[0m: Direnc.__init__() missing 1 required positional argument: 'guc'"
     ]
    }
   ],
   "source": [
    "# Class tanımlanması\n",
    "class Direnc:\n",
    "    def __init__(self, direnc_degeri, tolerans, guc):\n",
    "        self.direnc_degeri = direnc_degeri  # Ohm\n",
    "        self.tolerans = tolerans            # %\n",
    "        self.guc = guc                      # Watt\n",
    "    \n",
    "    def akim_hesapla(self, voltaj):\n",
    "        return voltaj / self.direnc_degeri  # Ohm Kanunu I = V/R\n",
    "    \n",
    "    def max_voltaj(self):\n",
    "        return (self.guc * self.direnc_degeri)**0.5  # V = √(P*R)\n",
    "\n",
    "# Örnek kullanım\n",
    "d1 = Direnc(1000, 5, 0.25)\n",
    "print(f\"10V için akım: {d1.akim_hesapla(10):.3f} A\")  # 0.010 A\n",
    "print(f\"Maksimum voltaj: {d1.max_voltaj():.2f} V\")     # 15.81 V"
   ]
  }
 ],
 "metadata": {
  "kernelspec": {
   "display_name": "Python 3",
   "language": "python",
   "name": "python3"
  },
  "language_info": {
   "codemirror_mode": {
    "name": "ipython",
    "version": 3
   },
   "file_extension": ".py",
   "mimetype": "text/x-python",
   "name": "python",
   "nbconvert_exporter": "python",
   "pygments_lexer": "ipython3",
   "version": "3.10.12"
  }
 },
 "nbformat": 4,
 "nbformat_minor": 2
}
