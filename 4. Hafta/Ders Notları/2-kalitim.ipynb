{
 "cells": [
  {
   "attachments": {},
   "cell_type": "markdown",
   "metadata": {},
   "source": [
    "# <span style=\"color:#0152a1\"> İTÜ IEEE Python Eğitimi</span> \n",
    "## 4. Hafta\n"
   ]
  },
  {
   "attachments": {},
   "cell_type": "markdown",
   "metadata": {},
   "source": [
    "##### Kalıtım (Inheritance)\n",
    "\n",
    "Python'da kalıtım, bir sınıftan diğerine özelliklerin ve methodların  kalmasını sağlar. Özelliklerini veren sınıfa `Parent Class`, Özellikleri alan sınıfa `Child Class` adı verilir.\n",
    "\n",
    "Örnekler üzerinden anlaşılması çok daha kolay olacaktır:"
   ]
  },
  {
   "cell_type": "code",
   "execution_count": null,
   "metadata": {},
   "outputs": [],
   "source": [
    "class TemelRobot:\n",
    "    def __init__(self, ad, versiyon):\n",
    "        self.ad = ad\n",
    "        self.versiyon = versiyon\n",
    "        self.aktif = False\n",
    "    \n",
    "    def durum_guncelle(self, aktif):\n",
    "        self.aktif = aktif\n",
    "        print(f\"{self.ad} robot {'aktif' if aktif else 'pasif'} durumda\")\n",
    "\n",
    "class EndustriyelRobot(TemelRobot):\n",
    "    def __init__(self, ad, versiyon, tasima_kapasitesi):\n",
    "        super().__init__(ad, versiyon)\n",
    "        self.tasima_kapasitesi = tasima_kapasitesi  # kg\n",
    "    \n",
    "    def tasi(self, agirlik):\n",
    "        if agirlik > self.tasima_kapasitesi:\n",
    "            print(\"Aşırı yük! Taşıma başarısız.\")\n",
    "        else:\n",
    "            print(f\"{agirlik} kg başarıyla taşındı\")\n",
    "\n",
    "class CerrahiRobot(EndustriyelRobot):\n",
    "    def __init__(self, ad, versiyon, hassasiyet):\n",
    "        super().__init__(ad, versiyon, 1)  # Maksimum 1 kg taşıma\n",
    "        self.hassasiyet = hassasiyet  # mm\n",
    "    \n",
    "    def cerrahi_mudahale(self, hedef_koordinat):\n",
    "        print(f\"{self.hassasiyet} mm hassasiyetle {hedef_koordinat} noktasına ulaşıldı\")\n",
    "\n",
    "# Örnek kullanım\n",
    "kuka_robot = EndustriyelRobot(\"KUKA KR100\", 2.4, 100)\n",
    "kuka_robot.tasi(85)  # Başarılı\n",
    "kuka_robot.tasi(105) # Başarısız\n",
    "\n",
    "davinci = CerrahiRobot(\"da Vinci Xi\", 4.0, 0.1)\n",
    "davinci.durum_guncelle(True)\n",
    "davinci.cerrahi_mudahale((23.5, 67.2, -12.8))"
   ]
  },
  {
   "cell_type": "markdown",
   "metadata": {},
   "source": [
    "\n",
    "\"Yukarıda anlattığımız üzere child class olan `Ogrenci`'yi tanımlarken, parent class olan `Insan`'dan tüm methodları ve attribute'ları da alır. Ancak eğer biz child class içerisinde parent class da olan bir fonksiyonu tanımlamak istersek, parent da olan kısım override'lanır (yani, childda tanımlanan fonksiyonun parent'dakinin yerini alır.) Biz örnekte, `İnsan`'da yer alan `__init__` fonksiyonunun `Ogrenci`'de de olmasını istiyoruz, bu sebeple `super().__init__(ad, yas)` satırını ekledik. Burada `super()` fonksiyonu üstteki parent classı temsil ediyor, yani biz bu classa ait olan `__init__` fonksiyonunu çağırıyoruz ve ilk olarak onu çalıştırıyoruz. Sonrasında ise `Ogrenci`'ye özel olmasını istediğimiz `__init__` fonksiyonunun kalanını alta yazıyoruz.\\n\",\n",
    "\"\\n\",\n",
    "\"Yani, Child fonksiyonlar Parent fonksiyonların istenilen özelliklerini ve fonksiyonlarını barındıran özelleşmiş sınıflardır. Bu yapıyı daha da büyütüp dallandırmak mümkündür:\"\n",
    "\"Yukarıdaki robotik örneğimizde `EndustriyelRobot` sınıfı, `TemelRobot`'un tüm özelliklerini miras alırken kendi özel taşıma fonksiyonalitesini eklemiştir. `CerrahiRobot` ise hem `EndustriyelRobot`'un hem de `TemelRobot`'un özelliklerini miras alarak cerrahi hassasiyet özelliği eklemiştir.\\n\",\n",
    "\"\\n\",\n",
    "\"`super()` fonksiyonu kullanımı kritik öneme sahiptir:\\n\",\n",
    "\"- `EndustriyelRobot`'ta `super().__init__(ad, versiyon)` ile temel robot özellikleri aktarılır\\n\",\n",
    "\"- `CerrahiRobot`'ta `super().__init__(ad, versiyon, 1)` ile endüstriyel robotun taşıma kapasitesi zorunlu olarak 1 kg'a ayarlanır\\n\",\n",
    "\"\\n\",\n",
    "\"Bu hiyerarşi sayesinde:\\n\",\n",
    "\"- Tüm robotlar ortak temel özellikleri paylaşır\\n\",\n",
    "\"- Her alt sınıf kendi uzmanlık alanını ekler\\n\",\n",
    "\"- Kod tekrarı önlenir ve bakım kolaylaşır\"\n"
   ]
  },
  {
   "cell_type": "code",
   "execution_count": null,
   "metadata": {},
   "outputs": [],
   "source": [
    "# Elektronik devre kalıtım örneği\n",
    "class DevreElemani:\n",
    "    def __init__(self, pin_sayisi):\n",
    "        self.pin_sayisi = pin_sayisi\n",
    "    \n",
    "    def baglanti_olustur(self):\n",
    "        print(f\"{self.pin_sayisi} pin bağlantısı yapıldı\")\n",
    "\n",
    "class Mikrodenetleyici(DevreElemani):\n",
    "    def __init__(self, pin_sayisi, mimari, frekans):\n",
    "        super().__init__(pin_sayisi)\n",
    "        self.mimari = mimari\n",
    "        self.frekans = frekans  # MHz\n",
    "    \n",
    "    def komut_calistir(self, komut):\n",
    "        print(f\"{self.frekans} MHz'de '{komut}' çalıştırılıyor\")\n",
    "\n",
    "class Sensor(Mikrodenetleyici):\n",
    "    def __init__(self, pin_sayisi, mimari, frekans, olcum_araligi):\n",
    "        super().__init__(pin_sayisi, mimari, frekans)\n",
    "        self.olcum_araligi = olcum_araligi\n",
    "    \n",
    "    def veri_oku(self):\n",
    "        import random\n",
    "        return random.uniform(*self.olcum_araligi)\n",
    "\n",
    "# Örnek kullanım\n",
    "arduino = Mikrodenetleyici(14, 'AVR', 16)\n",
    "arduino.komut_calistir(\"GPIO_SET HIGH\")\n",
    "\n",
    "sicaklik_sensoru = Sensor(4, 'ARM', 48, (-50, 150))\n",
    "print(f\"Sıcaklık: {sicaklik_sensoru.veri_oku():.1f}°C\")"
   ]
  },
  {
   "attachments": {},
   "cell_type": "markdown",
   "metadata": {},
   "source": [
    "Yukarıdaki yapıda `Insan` sınıfına ait bir obje, overridelamadığı sürece, `Canlilar` sınıfının özellik ve fonksiyonlarını da içerir.\n"
   ]
  },
  {
   "attachments": {},
   "cell_type": "markdown",
   "metadata": {},
   "source": [
    "Bu şekilde teorik anlatımla tam olarak kafanıza oturması ve alışmanız pek mümkün değil. Bu sebeple bu haftaki derste sayı olarak fazla örneğe bakacağız. [Class](https://www.w3schools.com/python/python_classes.asp) ve [Inheritance](https://www.w3schools.com/python/python_inheritance.asp) yapıları için bu bağlantılara tıklayarak çok daha çeşitli örnekler görebilirsiniz."
   ]
  }
 ],
 "metadata": {
  "kernelspec": {
   "display_name": "Python 3",
   "language": "python",
   "name": "python3"
  },
  "language_info": {
   "codemirror_mode": {
    "name": "ipython",
    "version": 3
   },
   "file_extension": ".py",
   "mimetype": "text/x-python",
   "name": "python",
   "nbconvert_exporter": "python",
   "pygments_lexer": "ipython3",
   "version": "3.10.12"
  }
 },
 "nbformat": 4,
 "nbformat_minor": 2
}
