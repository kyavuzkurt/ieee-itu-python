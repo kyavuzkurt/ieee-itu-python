{
 "cells": [
  {
   "attachments": {},
   "cell_type": "markdown",
   "metadata": {},
   "source": [
    "# <span style=\"color:#0152a1\"> İTÜ IEEE Python Eğitimi</span> \n",
    "## 6. Hafta\n"
   ]
  },
  {
   "attachments": {},
   "cell_type": "markdown",
   "metadata": {},
   "source": [
    "##### Iterators\n",
    "\n",
    "İterator, içerisinde farklı çok sayıda değer tutan ve üzerinde iterate'lenebilen objelerdir. Geçtiğimiz haftalarda gördüğümüz diziler (listeler, tuplelar vs) bu tanıma uyan objelerdir. Hatırlayacağınız üzere döngüler kullanarak onların da üzerlerinde iterate'liyorduk. Ancak bugünkü konumuz, kendi iterator objelerimizi yaratmak olacak. Öncelikle bir diziyi iteratör olarak nasıl kullanabileceğimize bakalım:\n"
   ]
  },
  {
   "cell_type": "code",
   "execution_count": 3,
   "metadata": {},
   "outputs": [
    {
     "name": "stdout",
     "output_type": "stream",
     "text": [
      "elma\n",
      "muz\n",
      "çilek\n"
     ]
    }
   ],
   "source": [
    "meyveler = (\"elma\", \"muz\", \"çilek\")\n",
    "myit = iter(meyveler) # tuple'ın iteratöre çevrilmesi\n",
    "\n",
    "print(next(myit))\n",
    "print(next(myit))\n",
    "print(next(myit))"
   ]
  },
  {
   "cell_type": "code",
   "execution_count": 4,
   "metadata": {},
   "outputs": [
    {
     "name": "stdout",
     "output_type": "stream",
     "text": [
      "b\n",
      "a\n",
      "n\n",
      "a\n"
     ]
    }
   ],
   "source": [
    "mystr = \"banana\"\n",
    "myit = iter(mystr)\n",
    "\n",
    "print(next(myit))\n",
    "print(next(myit))\n",
    "print(next(myit))\n",
    "print(next(myit))\n"
   ]
  },
  {
   "attachments": {},
   "cell_type": "markdown",
   "metadata": {},
   "source": [
    "**Iterator Obje Yaratmak**\n",
    "\n",
    "Bir iterator objesi yaratmak için, tanımında `__iter__()` ve `__next__()` methodlarını bulundurmamız gerekir.\n",
    "- `__iter__()`: Aynı init gibi içerisinde farklı atamalar ve operasyonlar yapabileceğimiz bir fonksiyondur. Ancak sonunda her zaman kendini döndürmesi gerekir.\n",
    "- `__next__()`: Aynı şekilde farklı işlemler yapılabilir ancak en son her zaman bir sonraki elemanı döndürmesi gerekir.\n",
    "\n",
    "Bir örneğe bakacak olursak:"
   ]
  },
  {
   "cell_type": "code",
   "execution_count": 8,
   "metadata": {},
   "outputs": [
    {
     "name": "stdout",
     "output_type": "stream",
     "text": [
      "1\n",
      "2\n",
      "3\n",
      "4\n",
      "5\n"
     ]
    }
   ],
   "source": [
    "class MyNumbers:\n",
    "  def __iter__(self):\n",
    "    self.a = 1\n",
    "    return self\n",
    "\n",
    "  def __next__(self):\n",
    "    x = self.a\n",
    "    self.a += 1\n",
    "    return x\n",
    "\n",
    "myclass = MyNumbers()\n",
    "myiter = iter(myclass)\n",
    "\n",
    "print(next(myiter))\n",
    "print(next(myiter))\n",
    "print(next(myiter))\n",
    "print(next(myiter))\n",
    "print(next(myiter))"
   ]
  },
  {
   "attachments": {},
   "cell_type": "markdown",
   "metadata": {},
   "source": [
    "Gördüğünüz gibi kendi kurallarımızla çalışan, özelleşmiş iterable objeleri bu şekilde yazabiliriz. Başlangıç ve orta seviyelerde pek sık kullanılan bir konsept değildir ancak anlaması oldukça basittir. Daha çok örnek için [buraya](https://www.programiz.com/python-programming/iterator) bakabilirsiniz"
   ]
  }
 ],
 "metadata": {
  "kernelspec": {
   "display_name": "Python 3",
   "language": "python",
   "name": "python3"
  },
  "language_info": {
   "codemirror_mode": {
    "name": "ipython",
    "version": 3
   },
   "file_extension": ".py",
   "mimetype": "text/x-python",
   "name": "python",
   "nbconvert_exporter": "python",
   "pygments_lexer": "ipython3",
   "version": "3.12.0"
  },
  "orig_nbformat": 4
 },
 "nbformat": 4,
 "nbformat_minor": 2
}
