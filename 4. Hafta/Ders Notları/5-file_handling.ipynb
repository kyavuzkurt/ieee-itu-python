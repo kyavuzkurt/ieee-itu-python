{
 "cells": [
  {
   "attachments": {},
   "cell_type": "markdown",
   "metadata": {},
   "source": [
    "# <span style=\"color:#0152a1\"> İTÜ IEEE Python Eğitimi</span> \n",
    "## 6. Hafta\n"
   ]
  },
  {
   "attachments": {},
   "cell_type": "markdown",
   "metadata": {},
   "source": [
    "##### File Handling\n",
    "\n",
    "Yazılımda, dosyalarla uğraşmak önemli bir olaydır. Sürekli olarak dosyaları açar, içlerindeki değerleri okur veya değiştiririz. BUnu nasıl yapabileceğimize bakalım."
   ]
  },
  {
   "attachments": {},
   "cell_type": "markdown",
   "metadata": {},
   "source": [
    "`open()` fonksiyonu, içerisine verilen işleme ve dosya adına göre dosyayı işler. Örneğin:"
   ]
  },
  {
   "cell_type": "code",
   "execution_count": null,
   "metadata": {},
   "outputs": [],
   "source": [
    "f = open(\"ornek.txt\", \"r\")"
   ]
  },
  {
   "attachments": {},
   "cell_type": "markdown",
   "metadata": {},
   "source": [
    "Burada f, açılan dosya objesini, ilk parametre dosya adını ve 2. parametre yapılacak işlemi temsil eder. Şu işlemler yapılabilir:\n",
    "- `r` - Read, dosyayı yazmak için açar, dosya yoksa hata oluşur.\n",
    "- `w` - Write, dosyayı yazmak için açar, dosya yoksa yaratılır.\n",
    "- `a` - Append, dosyayı ekleme için açar, dosya yoksa yaratılır.\n",
    "- `x` - Create, bu isimle dosya yaratılır.\n",
    "\n",
    "write ve append arasındaki fark biri dosyayı baştan yazar, biri sonuna ekleme yapar.\n",
    "\n"
   ]
  },
  {
   "attachments": {},
   "cell_type": "markdown",
   "metadata": {},
   "source": [
    "Dosya işlemede şu fonksiyonlar sık kullanılır:\n",
    "- `f.read()` - Dosyanın tüm içeriğini okur.\n",
    "- `f.readline()` - Dosyada bir satır okur.\n",
    "- `f.close()` - Dosyayı kapatır.\n",
    "- `f.write()` - Dosyaya yazar. (append ise sonuna ekler, write ise içeriği silip baştan yazar)\n",
    "\n",
    "Birkaç örneğe bakacak olursak:"
   ]
  },
  {
   "cell_type": "code",
   "execution_count": 3,
   "metadata": {},
   "outputs": [
    {
     "name": "stdout",
     "output_type": "stream",
     "text": [
      "Bu 1. satir\n",
      "Bu 2. satir\n",
      "Bu 3. satir\n",
      "Bu 4. satir\n",
      "Bu 5. satir\n"
     ]
    }
   ],
   "source": [
    "# Tüm içeriğin okunması\n",
    "f = open(\"ornek.txt\", \"r\")\n",
    "print(f.read())"
   ]
  },
  {
   "cell_type": "code",
   "execution_count": 4,
   "metadata": {},
   "outputs": [
    {
     "name": "stdout",
     "output_type": "stream",
     "text": [
      "Bu 1.\n"
     ]
    }
   ],
   "source": [
    "# İlk 5 karakterin okunması\n",
    "f = open(\"ornek.txt\", \"r\")\n",
    "print(f.read(5))"
   ]
  },
  {
   "cell_type": "code",
   "execution_count": 5,
   "metadata": {},
   "outputs": [
    {
     "name": "stdout",
     "output_type": "stream",
     "text": [
      "Bu 1. satir\n",
      "\n",
      "Bu 2. satir\n",
      "\n"
     ]
    }
   ],
   "source": [
    "# Satır satır okuma\n",
    "f = open(\"ornek.txt\", \"r\")\n",
    "print(f.readline())\n",
    "print(f.readline())"
   ]
  },
  {
   "cell_type": "code",
   "execution_count": 6,
   "metadata": {},
   "outputs": [
    {
     "data": {
      "text/plain": [
       "11"
      ]
     },
     "execution_count": 6,
     "metadata": {},
     "output_type": "execute_result"
    }
   ],
   "source": [
    "# bir satır daha eklenmesi\n",
    "f = open(\"ornek.txt\", \"a\")\n",
    "f.write(\"Bu 6. Satır\")"
   ]
  },
  {
   "cell_type": "code",
   "execution_count": null,
   "metadata": {},
   "outputs": [],
   "source": [
    "f = open(\"ornek.txt\", \"w\")\n",
    "f.write(\"Tüm içerik silindi ve bu 1. satır\")\n",
    "f.close()"
   ]
  }
 ],
 "metadata": {
  "kernelspec": {
   "display_name": "Python 3",
   "language": "python",
   "name": "python3"
  },
  "language_info": {
   "codemirror_mode": {
    "name": "ipython",
    "version": 3
   },
   "file_extension": ".py",
   "mimetype": "text/x-python",
   "name": "python",
   "nbconvert_exporter": "python",
   "pygments_lexer": "ipython3",
   "version": "3.12.0"
  },
  "orig_nbformat": 4
 },
 "nbformat": 4,
 "nbformat_minor": 2
}
